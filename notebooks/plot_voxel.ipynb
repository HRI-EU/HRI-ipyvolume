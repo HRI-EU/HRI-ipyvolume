{
 "cells": [
  {
   "cell_type": "code",
   "execution_count": 18,
   "metadata": {},
   "outputs": [],
   "source": [
    "import ipyvolume as ipv\n",
    "import os\n",
    "import pickle\n",
    "import numpy  as np\n",
    "\n",
    "def plot_voxel(vin):\n",
    "    if np.ndim(vin) == 5:\n",
    "        vin = vin[0,:,:,:,0]\n",
    "#     else:\n",
    "#         vin = vin[:,:,:]  \n",
    "    \n",
    "    nVertices = 24\n",
    "    nFaces = 12\n",
    "    nBoxes = np.int(np.sum(vin))\n",
    "\n",
    "    allVertices = np.ndarray([nBoxes*nVertices,3])\n",
    "    allFaces = np.ndarray([nBoxes*nFaces,3])\n",
    "    size_voxel = np.max(np.shape(vin))\n",
    "    print(size_voxel)\n",
    "\n",
    "    vshape = np.shape(vin)\n",
    "    c = 0\n",
    "    \n",
    "    delta = size_voxel/2\n",
    "    vertices = np.array((( delta,  delta,  delta),   #0\n",
    "                         (-delta,  delta,  delta),   #1\n",
    "                         (-delta,  delta, -delta),   #2\n",
    "                         ( delta,  delta, -delta),   #3\n",
    "                         \n",
    "                         ( delta,  delta,  delta),   #4\n",
    "                         (-delta,  delta,  delta),   #5\n",
    "                         ( delta, -delta,  delta),   #6\n",
    "                         (-delta, -delta,  delta),   #7\n",
    "                         \n",
    "                         ( delta,  delta,  delta),   #8\n",
    "                         ( delta,  delta, -delta),   #9\n",
    "                         ( delta, -delta,  delta),   #10\n",
    "                         ( delta, -delta, -delta),   #11\n",
    "                        \n",
    "                         ( delta, -delta,  delta),   #12\n",
    "                         (-delta, -delta,  delta),   #13\n",
    "                         (-delta, -delta, -delta),   #14\n",
    "                         ( delta, -delta, -delta),   #15\n",
    "                        \n",
    "                         ( delta,  delta, -delta),   #16\n",
    "                         (-delta,  delta, -delta),   #17\n",
    "                         ( delta, -delta, -delta),   #18\n",
    "                         (-delta, -delta, -delta),   #19 \n",
    "                        \n",
    "                         (-delta,  delta,  delta),   #20\n",
    "                         (-delta,  delta, -delta),   #21\n",
    "                         (-delta, -delta,  delta),   #22\n",
    "                         (-delta, -delta, -delta),)) #23\n",
    "\n",
    "        \n",
    "    faces = np.array(((0, 1, 2), \n",
    "                      (0, 2, 3), \n",
    "                      (4, 6, 5), \n",
    "                      (5, 6, 7),\n",
    "                      (8, 9,10), \n",
    "                      (9,11,10),\n",
    "                      (12,13,14),\n",
    "                      (12,14,15),\n",
    "                      (16,18,17),\n",
    "                      (17,18,19),\n",
    "                      (20,21,22),\n",
    "                      (21,23,22)))\n",
    "    \n",
    "    \n",
    "    # This did the trick, much faster with sparse voxel representation\n",
    "    sparse = np.asarray(np.nonzero(vin), np.int)\n",
    "\n",
    "    for c, v in enumerate(sparse.T):\n",
    "        allVertices[c*nVertices:(c+1)*nVertices, :] = vertices + v\n",
    "        allFaces[c*nFaces:(c+1)*nFaces, :] = faces + c * nVertices\n",
    "    \n",
    "    \n",
    "    \n",
    "    blob = ipv.plot_trisurf(allVertices[:,0],\n",
    "                allVertices[:,1],\n",
    "                allVertices[:,2],\n",
    "                triangles=allFaces)\n",
    "    \n",
    "    \n",
    "    \n",
    "    ipv.xlim(-delta, delta-1)\n",
    "    ipv.ylim(-delta, delta-1)\n",
    "    ipv.zlim(-delta, delta-1)\n",
    "    ipv.squarelim()\n",
    "\n",
    "    \n",
    "    \n",
    "    return blob"
   ]
  },
  {
   "cell_type": "code",
   "execution_count": 19,
   "metadata": {},
   "outputs": [],
   "source": [
    "cube = np.zeros([128,128,128])\n",
    "cube[32:96, 32:96, 32:96] = 1"
   ]
  },
  {
   "cell_type": "code",
   "execution_count": 20,
   "metadata": {},
   "outputs": [
    {
     "data": {
      "application/vnd.jupyter.widget-view+json": {
       "model_id": "c755b5dac10a4788a33eb59fb245b125",
       "version_major": 2,
       "version_minor": 0
      },
      "text/plain": [
       "VBox(children=(Figure(animation=0.0, camera=PerspectiveCamera(fov=45.0, position=(0.0, 0.0, 2.0), quaternion=(…"
      ]
     },
     "metadata": {},
     "output_type": "display_data"
    },
    {
     "name": "stdout",
     "output_type": "stream",
     "text": [
      "128\n"
     ]
    }
   ],
   "source": [
    "f = ipv.figure(width=800, height=600)\n",
    "f.animation = 0\n",
    "ipv.show()\n",
    "plot_voxel(cube)\n",
    "ipv.squarelim()"
   ]
  },
  {
   "cell_type": "code",
   "execution_count": 21,
   "metadata": {},
   "outputs": [],
   "source": [
    "pl = ipv.point_light(position=[120, 120, 120], distance=400, decay=2, intensity=2)\n"
   ]
  },
  {
   "cell_type": "code",
   "execution_count": 6,
   "metadata": {},
   "outputs": [],
   "source": [
    "# branch contains some iddues with xlim and squarelim stuff, but not interesitng here\n",
    "\n",
    "# rerun this cell to get correct scaling (axis ticks still wrong)\n",
    "\n",
    "size_voxel = 128\n",
    "ipv.xlim(-size_voxel/2, size_voxel/2-1)\n",
    "ipv.ylim(-size_voxel/2, size_voxel/2-1)\n",
    "ipv.zlim(-size_voxel/2, size_voxel/2-1)\n",
    "ipv.squarelim()"
   ]
  },
  {
   "cell_type": "code",
   "execution_count": 7,
   "metadata": {},
   "outputs": [],
   "source": [
    "sparse = np.asarray(np.nonzero(cube), np.int)"
   ]
  },
  {
   "cell_type": "code",
   "execution_count": 8,
   "metadata": {},
   "outputs": [
    {
     "data": {
      "text/plain": [
       "(3, 262144)"
      ]
     },
     "execution_count": 8,
     "metadata": {},
     "output_type": "execute_result"
    }
   ],
   "source": [
    "sparse.shape"
   ]
  },
  {
   "cell_type": "code",
   "execution_count": null,
   "metadata": {},
   "outputs": [],
   "source": []
  }
 ],
 "metadata": {
  "kernelspec": {
   "display_name": "Python 3",
   "language": "python",
   "name": "python3"
  },
  "language_info": {
   "codemirror_mode": {
    "name": "ipython",
    "version": 3
   },
   "file_extension": ".py",
   "mimetype": "text/x-python",
   "name": "python",
   "nbconvert_exporter": "python",
   "pygments_lexer": "ipython3",
   "version": "3.8.3"
  }
 },
 "nbformat": 4,
 "nbformat_minor": 4
}
