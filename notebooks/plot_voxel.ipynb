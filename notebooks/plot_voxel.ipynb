{
 "cells": [
  {
   "cell_type": "code",
   "execution_count": 81,
   "metadata": {},
   "outputs": [],
   "source": [
    "import ipyvolume as ipv\n",
    "from scipy import ndimage\n",
    "import numpy as np\n",
    "#import binvox_rw\n",
    "import os\n",
    "import trimesh\n",
    "import pickle\n",
    "import math\n",
    "import warnings\n",
    "from numpy import cos, sin, pi\n",
    "from ipyvolume import pylab as p3\n",
    "\n",
    "try:\n",
    "    import scipy.ndimage\n",
    "    import scipy.special\n",
    "except:\n",
    "    pass\n",
    "def plot_voxel_simple(n=1, m=1, p=1, color='red', size=None):\n",
    "    v = np.ones([n,m,p])\n",
    "    if size==None:\n",
    "        size=100/np.max(np.shape(v))\n",
    "    grid = ipv.plot_voxel(d=v,\n",
    "                    size=size,\n",
    "                    size_marker=1,\n",
    "                    scale_factor=1,\n",
    "                    offset=[0,0,0],\n",
    "                    marker='box', \n",
    "                    color=color,\n",
    "                    opacity=1.0,\n",
    "                    grow_limits=True,\n",
    "                    center=True)\n",
    "    return grid\n",
    "def plot_voxel_size(n=1, m=1, p=1, color='red', size=None):\n",
    "\n",
    "    ipv.clear()\n",
    "    ipv.figure(height=600, width=800)\n",
    "    grid = plot_voxel_simple(n=n, m=m, p=p, color=color, size=size)\n",
    "\n",
    "    ipv.style.use(['minimal', {'background-color': 'white'}])\n",
    "    ipv.show()\n",
    "    return grid\n"
   ]
  },
  {
   "cell_type": "markdown",
   "metadata": {},
   "source": [
    "# Customize Voxel Marker Size"
   ]
  },
  {
   "cell_type": "code",
   "execution_count": 150,
   "metadata": {},
   "outputs": [
    {
     "data": {
      "application/vnd.jupyter.widget-view+json": {
       "model_id": "5b2f5ed642d74e5eb4d61cb44f8d6530",
       "version_major": 2,
       "version_minor": 0
      },
      "text/plain": [
       "VBox(children=(Figure(camera=PerspectiveCamera(fov=45.0, position=(0.0, 0.0, 2.0), quaternion=(0.0, 0.0, 0.0, …"
      ]
     },
     "metadata": {},
     "output_type": "display_data"
    }
   ],
   "source": [
    "grid = plot_voxel_size(10,1,1,\"yellow\")"
   ]
  },
  {
   "cell_type": "code",
   "execution_count": 151,
   "metadata": {},
   "outputs": [],
   "source": [
    "grid.size_marker=None\n",
    "grid.d[0:3, :, :] = 0.4\n",
    "grid.d[6:10, :, :] = 0.9"
   ]
  },
  {
   "cell_type": "code",
   "execution_count": 152,
   "metadata": {},
   "outputs": [],
   "source": [
    "grid.d[1,:,:]=0\n",
    "grid.d[8,0,0]=0"
   ]
  },
  {
   "cell_type": "markdown",
   "metadata": {},
   "source": [
    "# Slice Operator and Scale Factor Demo"
   ]
  },
  {
   "cell_type": "code",
   "execution_count": 157,
   "metadata": {},
   "outputs": [
    {
     "data": {
      "application/vnd.jupyter.widget-view+json": {
       "model_id": "9459e1c67cd842e5b7eff1a688e0a2f7",
       "version_major": 2,
       "version_minor": 0
      },
      "text/plain": [
       "VBox(children=(Figure(camera=PerspectiveCamera(fov=45.0, position=(0.0, 0.0, 2.0), quaternion=(0.0, 0.0, 0.0, …"
      ]
     },
     "metadata": {},
     "output_type": "display_data"
    }
   ],
   "source": [
    "grid = plot_voxel_size(15,10,1,\"red\")"
   ]
  },
  {
   "cell_type": "code",
   "execution_count": 158,
   "metadata": {},
   "outputs": [],
   "source": [
    "grid.d[2:6] = 0\n",
    "grid.d[8:14:5] = 0\n",
    "grid.d[9:13:5, :, :] = 0\n",
    "grid.d[9:13:5] = 0\n",
    "grid.d[12,:,:] = 0"
   ]
  },
  {
   "cell_type": "code",
   "execution_count": 159,
   "metadata": {},
   "outputs": [],
   "source": [
    "grid.d[0:6, 4:6, 0]=1\n",
    "grid.d[10:12, 8:9, 0] = 0\n",
    "grid.d[14, 1:3, 0] = 0"
   ]
  },
  {
   "cell_type": "code",
   "execution_count": 160,
   "metadata": {},
   "outputs": [],
   "source": [
    "grid.scale_factor=3\n",
    "grid.size_marker=2"
   ]
  },
  {
   "cell_type": "markdown",
   "metadata": {},
   "source": [
    "# Voxel Offset Test"
   ]
  },
  {
   "cell_type": "code",
   "execution_count": 161,
   "metadata": {},
   "outputs": [
    {
     "data": {
      "application/vnd.jupyter.widget-view+json": {
       "model_id": "fff823d733dd4d1b92feafc01a1bd7b7",
       "version_major": 2,
       "version_minor": 0
      },
      "text/plain": [
       "VBox(children=(Figure(camera=PerspectiveCamera(fov=45.0, position=(0.0, 0.0, 2.0), quaternion=(0.0, 0.0, 0.0, …"
      ]
     },
     "metadata": {},
     "output_type": "display_data"
    }
   ],
   "source": [
    "grid = plot_voxel_size(16,16,16,\"blue\")\n",
    "grid.scale_factor=2\n",
    "grid.size_marker=[0.5, 1, 2]"
   ]
  },
  {
   "cell_type": "code",
   "execution_count": 162,
   "metadata": {},
   "outputs": [],
   "source": [
    "grid.pos_offset_x += 15\n",
    "grid.pos_offset_y += 15\n",
    "grid.pos_offset_z -= 30"
   ]
  },
  {
   "cell_type": "markdown",
   "metadata": {},
   "source": [
    "# Change X Values Test"
   ]
  },
  {
   "cell_type": "code",
   "execution_count": 168,
   "metadata": {},
   "outputs": [
    {
     "data": {
      "application/vnd.jupyter.widget-view+json": {
       "model_id": "f95b7b35b1c44fc0ac549b9449e8ec9e",
       "version_major": 2,
       "version_minor": 0
      },
      "text/plain": [
       "VBox(children=(Figure(camera=PerspectiveCamera(fov=45.0, position=(0.0, 0.0, 2.0), quaternion=(0.0, 0.0, 0.0, …"
      ]
     },
     "metadata": {},
     "output_type": "display_data"
    }
   ],
   "source": [
    "grid = plot_voxel_size(16,20,10,\"green\")\n",
    "grid.scale_factor=3\n",
    "grid.size_marker=[0.5, 2, 0.7]"
   ]
  },
  {
   "cell_type": "code",
   "execution_count": 169,
   "metadata": {},
   "outputs": [],
   "source": [
    "grid.x = 10"
   ]
  },
  {
   "cell_type": "code",
   "execution_count": 170,
   "metadata": {},
   "outputs": [],
   "source": [
    "grid.x += -10\n",
    "grid.send_state('x')"
   ]
  },
  {
   "cell_type": "markdown",
   "metadata": {},
   "source": [
    "# Lighting Support Demo"
   ]
  },
  {
   "cell_type": "code",
   "execution_count": 171,
   "metadata": {},
   "outputs": [
    {
     "data": {
      "application/vnd.jupyter.widget-view+json": {
       "model_id": "7e3e29bd97d344ab8e8c81182c1c03e0",
       "version_major": 2,
       "version_minor": 0
      },
      "text/plain": [
       "VBox(children=(Figure(camera=PerspectiveCamera(fov=45.0, position=(0.0, 0.0, 2.0), quaternion=(0.0, 0.0, 0.0, …"
      ]
     },
     "metadata": {},
     "output_type": "display_data"
    },
    {
     "data": {
      "application/vnd.jupyter.widget-view+json": {
       "model_id": "aac47df0359e4232b22f5050106cc041",
       "version_major": 2,
       "version_minor": 0
      },
      "text/plain": [
       "Tab(children=(VBox(children=(ColorPicker(value='orange', description='Light Color:', layout=Layout(width='450p…"
      ]
     },
     "metadata": {},
     "output_type": "display_data"
    }
   ],
   "source": [
    "ipv.clear()\n",
    "ipv.figure(height=600, width=800)\n",
    "\n",
    "box = plot_voxel_simple(16,16,16, \"yellow\", size=1)\n",
    "box.scale_factor=3\n",
    "box.size_marker=1\n",
    "box.opacity=0.7\n",
    "plane = plot_voxel_simple(160,1,160, \"red\", size=1)\n",
    "plane.pos_offset_x = 50\n",
    "plane.pos_offset_y = -100\n",
    "plane.pos_offset_z = 50\n",
    "\n",
    "# light_d = p3.directional_light(light_color=\"blue\", \n",
    "#                                position=[-100,100,100],\n",
    "#                                target=[plane.pos_offset_x, plane.pos_offset_y, plane.pos_offset_z])\n",
    "light_s = p3.spot_light(light_color=\"orange\", \n",
    "                        position=[-100,100,-100], \n",
    "                        target=[plane.pos_offset_x, plane.pos_offset_y, plane.pos_offset_z])\n",
    "light_s.angle = 0.2\n",
    "light_s.penumbra = 0.1\n",
    "light_s.shadow.bias = -0.00007\n",
    "light_s.shadow.radius = 1.7\n",
    "\n",
    "ipv.style.use(['minimal', {'background-color': 'white'}])\n",
    "ipv.show()\n",
    "\n",
    "p3.show_lighting_widgets()"
   ]
  },
  {
   "cell_type": "code",
   "execution_count": 148,
   "metadata": {},
   "outputs": [],
   "source": [
    "plane.receive_shadow=False"
   ]
  },
  {
   "cell_type": "code",
   "execution_count": null,
   "metadata": {},
   "outputs": [],
   "source": []
  }
 ],
 "metadata": {
  "kernelspec": {
   "display_name": "Python 3",
   "language": "python",
   "name": "python3"
  },
  "language_info": {
   "codemirror_mode": {
    "name": "ipython",
    "version": 3
   },
   "file_extension": ".py",
   "mimetype": "text/x-python",
   "name": "python",
   "nbconvert_exporter": "python",
   "pygments_lexer": "ipython3",
   "version": "3.8.2"
  }
 },
 "nbformat": 4,
 "nbformat_minor": 4
}
