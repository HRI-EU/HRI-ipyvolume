{
 "cells": [
  {
   "cell_type": "code",
   "execution_count": 15,
   "metadata": {},
   "outputs": [],
   "source": [
    "import ipyvolume as ipv\n",
    "from scipy import ndimage\n",
    "import numpy as np\n",
    "#import binvox_rw\n",
    "import os\n",
    "import trimesh\n",
    "import pickle\n",
    "import math\n",
    "import warnings\n",
    "from numpy import cos, sin, pi\n",
    "from ipyvolume import pylab as p3\n",
    "\n",
    "try:\n",
    "    import scipy.ndimage\n",
    "    import scipy.special\n",
    "except:\n",
    "    pass\n",
    "def plot_voxel_simple(n=1, m=1, p=1, color='red', size=None):\n",
    "    v = np.ones([n,m,p])\n",
    "    if size==None:\n",
    "        size=100/np.max(np.shape(v))\n",
    "    grid = ipv.plot_voxel(d=v,\n",
    "                    size=size,\n",
    "                    size_marker=1,\n",
    "                    scale_factor=1,\n",
    "                    offset=[0,0,0],\n",
    "                    marker='box', \n",
    "                    color=color,\n",
    "                    opacity=1.0,\n",
    "                    grow_limits=True,\n",
    "                    center=True)\n",
    "    return grid\n",
    "def plot_voxel_size(n=1, m=1, p=1, color='red', size=None, minimal=False):\n",
    "\n",
    "    ipv.clear()\n",
    "    ipv.figure(height=600, width=800)\n",
    "    grid = plot_voxel_simple(n=n, m=m, p=p, color=color, size=size)\n",
    "    if minimal:\n",
    "        ipv.style.use(['minimal', {'background-color': 'white'}])\n",
    "    ipv.show()\n",
    "    return grid\n"
   ]
  },
  {
   "cell_type": "markdown",
   "metadata": {},
   "source": [
    "# Customize Voxel Marker Size"
   ]
  },
  {
   "cell_type": "code",
   "execution_count": 16,
   "metadata": {},
   "outputs": [
    {
     "data": {
      "application/vnd.jupyter.widget-view+json": {
       "model_id": "ff7bda56d833454fa4ff956ec79454f3",
       "version_major": 2,
       "version_minor": 0
      },
      "text/plain": [
       "VBox(children=(Figure(camera=PerspectiveCamera(fov=45.0, position=(0.0, 0.0, 2.0), quaternion=(0.0, 0.0, 0.0, …"
      ]
     },
     "metadata": {},
     "output_type": "display_data"
    }
   ],
   "source": [
    "grid = plot_voxel_size(10,1,1,\"yellow\")"
   ]
  },
  {
   "cell_type": "code",
   "execution_count": 17,
   "metadata": {},
   "outputs": [],
   "source": [
    "grid.size_marker=None\n",
    "grid.d[0:3, :, :] = 0.4\n",
    "grid.d[6:10, :, :] = 0.9"
   ]
  },
  {
   "cell_type": "code",
   "execution_count": 18,
   "metadata": {},
   "outputs": [],
   "source": [
    "grid.d[1,:,:]=0\n",
    "grid.d[8,0,0]=0"
   ]
  },
  {
   "cell_type": "code",
   "execution_count": 19,
   "metadata": {},
   "outputs": [],
   "source": [
    "grid.opacity=0.5"
   ]
  },
  {
   "cell_type": "code",
   "execution_count": 20,
   "metadata": {},
   "outputs": [],
   "source": [
    "grid.d_opacity=True"
   ]
  },
  {
   "cell_type": "markdown",
   "metadata": {},
   "source": [
    "# Slice Operator and Scale Factor Demo"
   ]
  },
  {
   "cell_type": "code",
   "execution_count": 25,
   "metadata": {},
   "outputs": [
    {
     "data": {
      "application/vnd.jupyter.widget-view+json": {
       "model_id": "24aac214daa649f8ba2beabe581d552b",
       "version_major": 2,
       "version_minor": 0
      },
      "text/plain": [
       "VBox(children=(Figure(camera=PerspectiveCamera(fov=45.0, position=(0.0, 0.0, 2.0), quaternion=(0.0, 0.0, 0.0, …"
      ]
     },
     "metadata": {},
     "output_type": "display_data"
    }
   ],
   "source": [
    "grid = plot_voxel_size(15,10,1,\"red\")"
   ]
  },
  {
   "cell_type": "code",
   "execution_count": 26,
   "metadata": {},
   "outputs": [],
   "source": [
    "grid.d[2:6] = 0\n",
    "grid.d[8:14:5] = 0\n",
    "grid.d[9:13:5, :, :] = 0\n",
    "grid.d[9:13:5] = 0\n",
    "grid.d[12,:,:] = 0"
   ]
  },
  {
   "cell_type": "code",
   "execution_count": 27,
   "metadata": {},
   "outputs": [],
   "source": [
    "grid.d[0:6, 4:6, 0]=1\n",
    "grid.d[10:12, 8:9, 0] = 0\n",
    "grid.d[14, 1:3, 0] = 0"
   ]
  },
  {
   "cell_type": "code",
   "execution_count": 28,
   "metadata": {},
   "outputs": [],
   "source": [
    "grid.scale_factor=2\n",
    "grid.size_marker=0.7"
   ]
  },
  {
   "cell_type": "markdown",
   "metadata": {},
   "source": [
    "# Voxel Offset Test"
   ]
  },
  {
   "cell_type": "code",
   "execution_count": 30,
   "metadata": {},
   "outputs": [
    {
     "data": {
      "application/vnd.jupyter.widget-view+json": {
       "model_id": "35e60b294faf4dc6aeaaa0db0c88524a",
       "version_major": 2,
       "version_minor": 0
      },
      "text/plain": [
       "VBox(children=(Figure(camera=PerspectiveCamera(fov=45.0, position=(0.0, 0.0, 2.0), quaternion=(0.0, 0.0, 0.0, …"
      ]
     },
     "metadata": {},
     "output_type": "display_data"
    }
   ],
   "source": [
    "grid = plot_voxel_size(16,16,16,\"blue\")\n",
    "grid.scale_factor=2\n",
    "grid.size_marker=[0.7, 0.5, 1.1]"
   ]
  },
  {
   "cell_type": "code",
   "execution_count": 31,
   "metadata": {},
   "outputs": [],
   "source": [
    "grid.pos_offset_x += 15\n",
    "grid.pos_offset_y += 15\n",
    "grid.pos_offset_z -= 30"
   ]
  },
  {
   "cell_type": "markdown",
   "metadata": {},
   "source": [
    "# Change X Values Test"
   ]
  },
  {
   "cell_type": "code",
   "execution_count": 32,
   "metadata": {},
   "outputs": [
    {
     "data": {
      "application/vnd.jupyter.widget-view+json": {
       "model_id": "92ecbc7f7d8e49389db20e67a6ca8e69",
       "version_major": 2,
       "version_minor": 0
      },
      "text/plain": [
       "VBox(children=(Figure(camera=PerspectiveCamera(fov=45.0, position=(0.0, 0.0, 2.0), quaternion=(0.0, 0.0, 0.0, …"
      ]
     },
     "metadata": {},
     "output_type": "display_data"
    }
   ],
   "source": [
    "grid = plot_voxel_size(16,20,10,\"green\")\n",
    "grid.scale_factor=3\n",
    "grid.size_marker=[0.7, 0.2, 0.4]"
   ]
  },
  {
   "cell_type": "code",
   "execution_count": 33,
   "metadata": {},
   "outputs": [],
   "source": [
    "grid.x = 10"
   ]
  },
  {
   "cell_type": "code",
   "execution_count": 34,
   "metadata": {},
   "outputs": [],
   "source": [
    "grid.x += -10\n",
    "grid.send_state('x') #should call send_state whenever changing x y z"
   ]
  },
  {
   "cell_type": "markdown",
   "metadata": {},
   "source": [
    "# Lighting Support Demo"
   ]
  },
  {
   "cell_type": "code",
   "execution_count": 39,
   "metadata": {},
   "outputs": [
    {
     "data": {
      "application/vnd.jupyter.widget-view+json": {
       "model_id": "4a655804a54d4d02bac5ea5206099cd2",
       "version_major": 2,
       "version_minor": 0
      },
      "text/plain": [
       "VBox(children=(Figure(camera=PerspectiveCamera(fov=45.0, position=(0.0, 0.0, 2.0), quaternion=(0.0, 0.0, 0.0, …"
      ]
     },
     "metadata": {},
     "output_type": "display_data"
    },
    {
     "data": {
      "application/vnd.jupyter.widget-view+json": {
       "model_id": "55e548e322c947e1940a606c11a4318d",
       "version_major": 2,
       "version_minor": 0
      },
      "text/plain": [
       "Tab(children=(VBox(children=(ColorPicker(value='orange', description='Light Color:', layout=Layout(width='450p…"
      ]
     },
     "metadata": {},
     "output_type": "display_data"
    }
   ],
   "source": [
    "ipv.clear()\n",
    "ipv.figure(height=600, width=800)\n",
    "\n",
    "box = plot_voxel_simple(16,16,16, \"yellow\", size=1)\n",
    "box.scale_factor=3\n",
    "box.size_marker=1# 0.3\n",
    "plane = plot_voxel_simple(160,1,160, \"red\", size=1)\n",
    "plane.pos_offset_x = -30\n",
    "plane.pos_offset_y = -20\n",
    "plane.pos_offset_z = -30\n",
    "\n",
    "# light_d = p3.directional_light(light_color=\"blue\", \n",
    "#                                position=[-100,100,100],\n",
    "#                                target=[plane.pos_offset_x, plane.pos_offset_y, plane.pos_offset_z])\n",
    "light_s = p3.spot_light(light_color=\"orange\", \n",
    "                        position=[-100,200,-100], \n",
    "                        target=[plane.pos_offset_x+55, \n",
    "                                plane.pos_offset_y, \n",
    "                                plane.pos_offset_z+55])\n",
    "light_s.angle = 0.2\n",
    "light_s.penumbra = 0.1\n",
    "light_s.shadow.bias = -0.00007\n",
    "light_s.shadow.radius = 1.7\n",
    "\n",
    "ipv.style.use(['minimal', {'background-color': 'white'}])\n",
    "ipv.show()\n",
    "\n",
    "p3.show_lighting_widgets()"
   ]
  },
  {
   "cell_type": "code",
   "execution_count": 21,
   "metadata": {},
   "outputs": [],
   "source": []
  }
 ],
 "metadata": {
  "kernelspec": {
   "display_name": "Python 3",
   "language": "python",
   "name": "python3"
  },
  "language_info": {
   "codemirror_mode": {
    "name": "ipython",
    "version": 3
   },
   "file_extension": ".py",
   "mimetype": "text/x-python",
   "name": "python",
   "nbconvert_exporter": "python",
   "pygments_lexer": "ipython3",
   "version": "3.8.2"
  }
 },
 "nbformat": 4,
 "nbformat_minor": 4
}
