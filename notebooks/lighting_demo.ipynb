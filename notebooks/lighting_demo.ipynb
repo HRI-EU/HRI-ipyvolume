{
 "cells": [
  {
   "cell_type": "code",
   "execution_count": 5,
   "metadata": {},
   "outputs": [],
   "source": [
    "import warnings\n",
    "import numpy as np\n",
    "from numpy import cos, sin, pi\n",
    "from ipyvolume import pylab as p3\n",
    "import math\n",
    "from ipywidgets import widgets\n",
    "from ipywidgets import FloatRangeSlider, Dropdown, FloatSlider, FloatLogSlider, ColorPicker, Box, VBox, Layout, Label\n",
    "from ipywidgets import interact, interactive, fixed, interact_manual\n",
    "\n",
    "try:\n",
    "    import scipy.ndimage\n",
    "    import scipy.special\n",
    "except:\n",
    "    pass\n",
    "\n",
    "def setup_material_widgets(surf, name, tab, index):\n",
    "\n",
    "    if tab == None:\n",
    "        return\n",
    "    style = {'description_width': 'initial', 'width': 'max-content'}\n",
    "    surf_color = ColorPicker(description='Color:', value=str(surf.color), continuous_update=True)\n",
    "    \n",
    "    surf_lighting_model = Dropdown(options=['DEFAULT', 'LAMBERT', 'PHONG', 'PHYSICAL'],value=surf.lighting_model,\n",
    "                                    description='Lighting Model:', style=style)\n",
    "    surf_opacity = FloatSlider(description='Opacity(Non-DEFAULT):',\n",
    "                               value=surf.opacity, min=0.0, max=1.0, step=0.01, \n",
    "                                continuous_update=True, orientation='horizontal',\n",
    "                                readout=True, readout_format='.01f', style=style)\n",
    "    surf_specular_color = ColorPicker(description='Specular Color(Non-DEFAULT):', value=str(surf.specular_color), \n",
    "                                      continuous_update=True, style=style)\n",
    "    surf_shininess = FloatSlider(description='Shininess(PHONG-Only):',\n",
    "                                 value=surf.shininess, min=0.0, max=100.0, step=0.01, \n",
    "                                continuous_update=True, orientation='horizontal', \n",
    "                                readout=True, readout_format='.01f', style=style)\n",
    "    surf_emissive_intensity = FloatSlider(description='Emissive intensity(Non-DEFAULT):',\n",
    "                                          value=surf.emissive_intensity, min=0.0, max=1.0, step=0.01, \n",
    "                                continuous_update=True, orientation='horizontal', \n",
    "                                readout=True, readout_format='.01f', style=style)\n",
    "    surf_roughness = FloatSlider(description='Roughness(PHYISICAL-Only):',\n",
    "                                 value=surf.roughness, min=0.0, max=1.0, step=0.01, \n",
    "                                continuous_update=True, orientation='horizontal', \n",
    "                                readout=True, readout_format='.01f', style=style)\n",
    "    surf_metalness = FloatSlider(description='Metalness(PHYISICAL-Only):',\n",
    "                                 value=surf.metalness, min=0.0, max=1.0, step=0.01, \n",
    "                                continuous_update=True, orientation='horizontal', \n",
    "                                readout=True, readout_format='.01f', style=style)\n",
    "    \n",
    "    surf_cast_shadow = widgets.Checkbox(value=True, description='Cast Shadow', style=style)\n",
    "    surf_receive_shadow = widgets.Checkbox(value=True, description='Receive Shadow', style=style)\n",
    "    surf_flat_shading = widgets.Checkbox(value=True, description='Flat Shading', style=style)\n",
    "    \n",
    "    def set_params(color, \n",
    "                   lighting_model, \n",
    "                   opacity, \n",
    "                   specular_color,\n",
    "                   shininess,\n",
    "                   emissive_intensity,\n",
    "                   roughness,\n",
    "                   metalness,\n",
    "                   cast_shadow, \n",
    "                   receive_shadow,\n",
    "                   flat_shading):\n",
    "        surf.color = color\n",
    "        surf.lighting_model = lighting_model\n",
    "        surf.opacity = opacity\n",
    "        surf.specular_color = specular_color\n",
    "        surf.shininess = shininess\n",
    "        surf.emissive_intensity = emissive_intensity\n",
    "        surf.roughness = roughness\n",
    "        surf.metalness = metalness\n",
    "        surf.cast_shadow = cast_shadow\n",
    "        surf.receive_shadow = receive_shadow\n",
    "        surf.flat_shading = flat_shading\n",
    "    \n",
    "    interactables = interactive(set_params, \n",
    "                     color=surf_color,\n",
    "                     lighting_model=surf_lighting_model, \n",
    "                     opacity=surf_opacity,\n",
    "                     specular_color = surf_specular_color,\n",
    "                     shininess = surf_shininess,\n",
    "                     emissive_intensity = surf_emissive_intensity,\n",
    "                     roughness = surf_roughness,\n",
    "                     metalness = surf_metalness,\n",
    "                     cast_shadow = surf_cast_shadow,\n",
    "                     receive_shadow = surf_receive_shadow,\n",
    "                     flat_shading = surf_flat_shading)\n",
    "    \n",
    "    box = VBox(children = interactables.children)\n",
    "    tab.children += (box,) \n",
    "    tab.set_title(index, name)\n",
    "\n",
    "def setup_light_widgets(light, name, tab, index):\n",
    "    if tab == None:\n",
    "        return\n",
    "    interactables = None\n",
    "    style = {'description_width': 'initial', 'width': 'max-content'}\n",
    "    if light.light_type == 'AMBIENT':\n",
    "        light_color = ColorPicker(description='Light Color:', value=str(light.light_color), continuous_update=True)\n",
    "        light_intensity = FloatSlider(description='Intensity:',\n",
    "                               value=light.intensity, min=0.0, max=1.0, step=0.01, \n",
    "                                continuous_update=True, orientation='horizontal',\n",
    "                                readout=True, readout_format='.01f', style=style)\n",
    "    \n",
    "        def set_params_ambiental(color, \n",
    "                                intensity):\n",
    "            light.light_color = color\n",
    "            light.intensity = intensity\n",
    "    \n",
    "        interactables = interactive(set_params_ambiental, \n",
    "                                     color=light_color,\n",
    "                                     intensity=light_intensity)\n",
    "    elif light.light_type == 'HEMISPHERE':\n",
    "        light_color = ColorPicker(description='Light Color:', value=str(light.light_color), continuous_update=True)\n",
    "        light_color2 = ColorPicker(description='Light Color2:', value=str(light.light_color2), continuous_update=True)\n",
    "        light_intensity = FloatSlider(description='Intensity:',\n",
    "                               value=light.intensity, min=0.0, max=1.0, step=0.01, \n",
    "                                continuous_update=True, orientation='horizontal',\n",
    "                                readout=True, readout_format='.01f', style=style)\n",
    "        position_x = FloatSlider(description='Position X:',\n",
    "                               value=light.position_x, min=-1.0, max=1.0, step=0.01, \n",
    "                                continuous_update=True, orientation='horizontal',\n",
    "                                readout=True, readout_format='.01f', style=style)\n",
    "        position_y = FloatSlider(description='Position Y:',\n",
    "                               value=light.position_y, min=-1.0, max=1.0, step=0.01, \n",
    "                                continuous_update=True, orientation='horizontal',\n",
    "                                readout=True, readout_format='.01f', style=style)\n",
    "        position_z = FloatSlider(description='Position Z:',\n",
    "                               value=light.position_z, min=-1.0, max=1.0, step=0.01, \n",
    "                                continuous_update=True, orientation='horizontal',\n",
    "                                readout=True, readout_format='.01f', style=style)\n",
    "    \n",
    "        def set_params_hemisphere(color, color2, intensity, pos_x, pos_y, pos_z):\n",
    "            light.light_color = color\n",
    "            light.light_color2 = color2\n",
    "            light.intensity = intensity\n",
    "            light.position_x = pos_x\n",
    "            light.position_y = pos_y\n",
    "            light.position_z = pos_z\n",
    "    \n",
    "        interactables = interactive(set_params_hemisphere, \n",
    "                                    color=light_color,\n",
    "                                    color2=light_color2,\n",
    "                                    intensity=light_intensity,\n",
    "                                    pos_x=position_x,\n",
    "                                    pos_y=position_y,\n",
    "                                    pos_z=position_z)\n",
    "        \n",
    "    elif light.light_type == 'DIRECTIONAL':\n",
    "        light_color = ColorPicker(description='Light Color:', value=str(light.light_color), continuous_update=True)\n",
    "        light_intensity = FloatSlider(description='Intensity:',\n",
    "                               value=light.intensity, min=0.0, max=1.0, step=0.01, \n",
    "                                continuous_update=True, orientation='horizontal',\n",
    "                                readout=True, readout_format='.01f', style=style)\n",
    "        position_x = FloatSlider(description='Position X:',\n",
    "                               value=light.position_x, min=-100.0, max=100.0, step=0.01, \n",
    "                                continuous_update=True, orientation='horizontal',\n",
    "                                readout=True, readout_format='.01f', style=style)\n",
    "        position_y = FloatSlider(description='Position Y:',\n",
    "                               value=light.position_y, min=-100.0, max=100.0, step=0.01, \n",
    "                                continuous_update=True, orientation='horizontal',\n",
    "                                readout=True, readout_format='.01f', style=style)\n",
    "        position_z = FloatSlider(description='Position Z:',\n",
    "                               value=light.position_z, min=-100.0, max=100.0, step=0.01, \n",
    "                                continuous_update=True, orientation='horizontal',\n",
    "                                readout=True, readout_format='.01f', style=style)\n",
    "        target_x = FloatSlider(description='Target X:',\n",
    "                               value=light.target_x, min=-100.0, max=100.0, step=0.01, \n",
    "                                continuous_update=True, orientation='horizontal',\n",
    "                                readout=True, readout_format='.01f', style=style)\n",
    "        target_y = FloatSlider(description='Target Y:',\n",
    "                               value=light.target_y, min=-100.0, max=100.0, step=0.01, \n",
    "                                continuous_update=True, orientation='horizontal',\n",
    "                                readout=True, readout_format='.01f', style=style)\n",
    "        target_z = FloatSlider(description='Target Z:',\n",
    "                               value=light.target_z, min=-100.0, max=100.0, step=0.01, \n",
    "                                continuous_update=True, orientation='horizontal',\n",
    "                                readout=True, readout_format='.01f', style=style)\n",
    "        cast_shadow = widgets.Checkbox(value=light.cast_shadow, description='Cast Shadow', style=style)\n",
    "        shadow_map_size = FloatSlider(description='Shadow Map Size:',\n",
    "                               value=light.shadow_map_size, min=0.0, max=1024.0, step=0.01, \n",
    "                                continuous_update=True, orientation='horizontal',\n",
    "                                readout=True, readout_format='.01f', style=style)\n",
    "        shadow_bias = FloatSlider(description='Shadow Bias:',\n",
    "                               value=light.shadow_bias, min=-0.001, max=0.001, step=0.00001, \n",
    "                                continuous_update=True, orientation='horizontal',\n",
    "                                readout=True, readout_format='.7f', style=style)\n",
    "        shadow_radius = FloatSlider(description='Shadow Radius:',\n",
    "                               value=light.shadow_radius, min=0, max=10, step=0.01, \n",
    "                                continuous_update=True, orientation='horizontal',\n",
    "                                readout=True, readout_format='.01f', style=style)\n",
    "        shadow_camera_near = FloatSlider(description='Shadow Camera Near:',\n",
    "                               value=light.shadow_camera_near, min=0.1, max=2, step=0.01, \n",
    "                                continuous_update=True, orientation='horizontal',\n",
    "                                readout=True, readout_format='.01f', style=style)\n",
    "        shadow_camera_far = FloatSlider(description='Shadow Camera Far:',\n",
    "                               value=light.shadow_camera_far, min=2.01, max=5000, step=0.01, \n",
    "                                continuous_update=True, orientation='horizontal',\n",
    "                                readout=True, readout_format='.01f', style=style)\n",
    "        shadow_camera_orthographic_size = FloatSlider(description='Shadow Cam Ortho Size:',\n",
    "                               value=light.shadow_camera_orthographic_size, min=0, max=500, step=0.01, \n",
    "                                continuous_update=True, orientation='horizontal',\n",
    "                                readout=True, readout_format='.01f', style=style)\n",
    "  \n",
    "        def set_params_directional(color, intensity, pos_x, pos_y, pos_z, tar_x, tar_y, tar_z, \n",
    "                                   cast_shadow,smap_size, bias, radius, far, near, ortho_size):\n",
    "            light.light_color = color\n",
    "            light.intensity = intensity\n",
    "            light.position_x = pos_x\n",
    "            light.position_y = pos_y\n",
    "            light.position_z = pos_z\n",
    "            light.target_x = tar_x\n",
    "            light.target_y = tar_y\n",
    "            light.target_z = tar_z\n",
    "            light.cast_shadow = cast_shadow\n",
    "            light.shadow_map_size = smap_size\n",
    "            light.shadow_bias = bias\n",
    "            light.shadow_radius = radius\n",
    "            light.shadow_camera_near = near\n",
    "            light.shadow_camera_far = far\n",
    "            light.shadow_camera_orthographic_size = ortho_size\n",
    "    \n",
    "        interactables = interactive(set_params_directional, \n",
    "                                    color=light_color,\n",
    "                                    intensity=light_intensity,\n",
    "                                    pos_x=position_x,\n",
    "                                    pos_y=position_y,\n",
    "                                    pos_z=position_z,\n",
    "                                    tar_x=target_x,\n",
    "                                    tar_y=target_y,\n",
    "                                    tar_z=target_z,\n",
    "                                    cast_shadow=cast_shadow,\n",
    "                                    smap_size=shadow_map_size,\n",
    "                                    bias=shadow_bias,\n",
    "                                    radius=shadow_radius,\n",
    "                                    near=shadow_camera_near,\n",
    "                                    far=shadow_camera_far, \n",
    "                                    ortho_size=shadow_camera_orthographic_size)\n",
    "        \n",
    "    elif light.light_type == 'SPOT':\n",
    "        light_color = ColorPicker(description='Light Color:', value=str(light.light_color), continuous_update=True)\n",
    "        light_intensity = FloatSlider(description='Intensity:',\n",
    "                               value=light.intensity, min=0.0, max=1.0, step=0.01, \n",
    "                                continuous_update=True, orientation='horizontal',\n",
    "                                readout=True, readout_format='.01f', style=style)\n",
    "        position_x = FloatSlider(description='Position X:',\n",
    "                               value=light.position_x, min=-100.0, max=100.0, step=0.01, \n",
    "                                continuous_update=True, orientation='horizontal',\n",
    "                                readout=True, readout_format='.01f', style=style)\n",
    "        position_y = FloatSlider(description='Position Y:',\n",
    "                               value=light.position_y, min=-100.0, max=100.0, step=0.01, \n",
    "                                continuous_update=True, orientation='horizontal',\n",
    "                                readout=True, readout_format='.01f', style=style)\n",
    "        position_z = FloatSlider(description='Position Z:',\n",
    "                               value=light.position_z, min=-100.0, max=100.0, step=0.01, \n",
    "                                continuous_update=True, orientation='horizontal',\n",
    "                                readout=True, readout_format='.01f', style=style)\n",
    "        target_x = FloatSlider(description='Target X:',\n",
    "                               value=light.target_x, min=-100.0, max=100.0, step=0.01, \n",
    "                                continuous_update=True, orientation='horizontal',\n",
    "                                readout=True, readout_format='.01f', style=style)\n",
    "        target_y = FloatSlider(description='Target Y:',\n",
    "                               value=light.target_y, min=-100.0, max=100.0, step=0.01, \n",
    "                                continuous_update=True, orientation='horizontal',\n",
    "                                readout=True, readout_format='.01f', style=style)\n",
    "        target_z = FloatSlider(description='Target Z:',\n",
    "                               value=light.target_z, min=-100.0, max=100.0, step=0.01, \n",
    "                                continuous_update=True, orientation='horizontal',\n",
    "                                readout=True, readout_format='.01f', style=style)\n",
    "        angle = FloatSlider(description='Angle:',\n",
    "                               value=light.angle, min=math.pi/100, max=math.pi/2, step=0.001, \n",
    "                                continuous_update=True, orientation='horizontal',\n",
    "                                readout=True, readout_format='.07f', style=style)\n",
    "        penumbra = FloatSlider(description='Penumbra:',\n",
    "                               value=light.penumbra, min=0.0, max=1.0, step=0.01, \n",
    "                                continuous_update=True, orientation='horizontal',\n",
    "                                readout=True, readout_format='.01f', style=style)\n",
    "        cast_shadow = widgets.Checkbox(value=light.cast_shadow, description='Cast Shadow', style=style)\n",
    "        shadow_map_size = FloatSlider(description='Shadow Map Size:',\n",
    "                               value=light.shadow_map_size, min=0.0, max=1024.0, step=0.01, \n",
    "                                continuous_update=True, orientation='horizontal',\n",
    "                                readout=True, readout_format='.01f', style=style)\n",
    "        shadow_bias = FloatSlider(description='Shadow Bias:',\n",
    "                               value=light.shadow_bias, min=-0.001, max=0.001, step=0.00001, \n",
    "                                continuous_update=True, orientation='horizontal',\n",
    "                                readout=True, readout_format='.7f', style=style)\n",
    "        shadow_radius = FloatSlider(description='Shadow Radius:',\n",
    "                               value=light.shadow_radius, min=0, max=10, step=0.01, \n",
    "                                continuous_update=True, orientation='horizontal',\n",
    "                                readout=True, readout_format='.01f', style=style)\n",
    "        shadow_camera_near = FloatSlider(description='Shadow Camera Near:',\n",
    "                               value=light.shadow_camera_near, min=0.1, max=2, step=0.01, \n",
    "                                continuous_update=True, orientation='horizontal',\n",
    "                                readout=True, readout_format='.01f', style=style)\n",
    "        shadow_camera_far = FloatSlider(description='Shadow Camera Far:',\n",
    "                               value=light.shadow_camera_far, min=2.01, max=5000, step=0.01, \n",
    "                                continuous_update=True, orientation='horizontal',\n",
    "                                readout=True, readout_format='.01f', style=style)\n",
    "\n",
    "        def set_params_spot(color, intensity, pos_x, pos_y, pos_z, tar_x, tar_y, tar_z, \n",
    "                            angle, \n",
    "                            penumbra, \n",
    "                            cast_shadow,smap_size, bias, radius, far, near):\n",
    "            light.light_color = color\n",
    "            light.intensity = intensity\n",
    "            light.position_x = pos_x\n",
    "            light.position_y = pos_y\n",
    "            light.position_z = pos_z\n",
    "            light.target_x = tar_x\n",
    "            light.target_y = tar_y\n",
    "            light.target_z = tar_z\n",
    "            light.angle = angle\n",
    "            light.penumbra = penumbra\n",
    "            light.cast_shadow = cast_shadow\n",
    "            light.shadow_map_size = smap_size\n",
    "            light.shadow_bias = bias\n",
    "            light.shadow_radius = radius\n",
    "            light.shadow_camera_near = near\n",
    "            light.shadow_camera_far = far\n",
    "    \n",
    "        interactables = interactive(set_params_spot, \n",
    "                                    color=light_color,\n",
    "                                    intensity=light_intensity,\n",
    "                                    pos_x=position_x,\n",
    "                                    pos_y=position_y,\n",
    "                                    pos_z=position_z,\n",
    "                                    tar_x=target_x,\n",
    "                                    tar_y=target_y,\n",
    "                                    tar_z=target_z,\n",
    "                                    angle = angle,\n",
    "                                    penumbra = penumbra,\n",
    "                                    cast_shadow=cast_shadow,\n",
    "                                    smap_size=shadow_map_size,\n",
    "                                    bias=shadow_bias,\n",
    "                                    radius=shadow_radius,\n",
    "                                    near=shadow_camera_near,\n",
    "                                    far=shadow_camera_far)\n",
    "     \n",
    "    elif light.light_type == 'POINT':\n",
    "        light_color = ColorPicker(description='Light Color:', value=str(light.light_color), continuous_update=True)\n",
    "        light_intensity = FloatSlider(description='Intensity:',\n",
    "                               value=light.intensity, min=0.0, max=1.0, step=0.01, \n",
    "                                continuous_update=True, orientation='horizontal',\n",
    "                                readout=True, readout_format='.01f', style=style)\n",
    "        position_x = FloatSlider(description='Position X:',\n",
    "                               value=light.position_x, min=-100.0, max=100.0, step=0.01, \n",
    "                                continuous_update=True, orientation='horizontal',\n",
    "                                readout=True, readout_format='.01f', style=style)\n",
    "        position_y = FloatSlider(description='Position Y:',\n",
    "                               value=light.position_y, min=-100.0, max=100.0, step=0.01, \n",
    "                                continuous_update=True, orientation='horizontal',\n",
    "                                readout=True, readout_format='.01f', style=style)\n",
    "        position_z = FloatSlider(description='Position Z:',\n",
    "                               value=light.position_z, min=-100.0, max=100.0, step=0.01, \n",
    "                                continuous_update=True, orientation='horizontal',\n",
    "                                readout=True, readout_format='.01f', style=style)\n",
    "        distance = FloatSlider(description='Max Distance:',\n",
    "                               value=light.distance, min=0, max=200, step=0.01, \n",
    "                                continuous_update=True, orientation='horizontal',\n",
    "                                readout=True, readout_format='.01f', style=style)\n",
    "        cast_shadow = widgets.Checkbox(value=light.cast_shadow, description='Cast Shadow', style=style)\n",
    "        shadow_map_size = FloatSlider(description='Shadow Map Size:',\n",
    "                               value=light.shadow_map_size, min=0.0, max=1024.0, step=0.01, \n",
    "                                continuous_update=True, orientation='horizontal',\n",
    "                                readout=True, readout_format='.01f', style=style)\n",
    "        shadow_bias = FloatSlider(description='Shadow Bias:',\n",
    "                               value=light.shadow_bias, min=-0.001, max=0.001, step=0.00001, \n",
    "                                continuous_update=True, orientation='horizontal',\n",
    "                                readout=True, readout_format='.7f', style=style)\n",
    "        shadow_radius = FloatSlider(description='Shadow Radius:',\n",
    "                               value=light.shadow_radius, min=0, max=10, step=0.01, \n",
    "                                continuous_update=True, orientation='horizontal',\n",
    "                                readout=True, readout_format='.01f', style=style)\n",
    "        shadow_camera_near = FloatSlider(description='Shadow Camera Near:',\n",
    "                               value=light.shadow_camera_near, min=0.1, max=2, step=0.01, \n",
    "                                continuous_update=True, orientation='horizontal',\n",
    "                                readout=True, readout_format='.01f', style=style)\n",
    "        shadow_camera_far = FloatSlider(description='Shadow Camera Far:',\n",
    "                               value=light.shadow_camera_far, min=2.01, max=5000, step=0.01, \n",
    "                                continuous_update=True, orientation='horizontal',\n",
    "                                readout=True, readout_format='.01f', style=style)\n",
    "\n",
    "        def set_params_point(color, intensity, pos_x, pos_y, pos_z,  \n",
    "                            distance, cast_shadow, smap_size, bias, radius, far, near):\n",
    "            light.light_color = color\n",
    "            light.intensity = intensity\n",
    "            light.position_x = pos_x\n",
    "            light.position_y = pos_y\n",
    "            light.position_z = pos_z\n",
    "            light.distance = distance\n",
    "            light.cast_shadow = cast_shadow\n",
    "            light.shadow_map_size = smap_size\n",
    "            light.shadow_bias = bias\n",
    "            light.shadow_radius = radius\n",
    "            light.shadow_camera_near = near\n",
    "            light.shadow_camera_far = far\n",
    "\n",
    "    \n",
    "        interactables = interactive(set_params_point, \n",
    "                                    color=light_color,\n",
    "                                    intensity=light_intensity,\n",
    "                                    pos_x=position_x,\n",
    "                                    pos_y=position_y,\n",
    "                                    pos_z=position_z,\n",
    "                                    distance=distance,\n",
    "                                    cast_shadow=cast_shadow,\n",
    "                                    smap_size=shadow_map_size,\n",
    "                                    bias=shadow_bias,\n",
    "                                    radius=shadow_radius,\n",
    "                                    near=shadow_camera_near,\n",
    "                                    far=shadow_camera_far)\n",
    "\n",
    "\n",
    "    if interactables:\n",
    "        box = VBox(children = interactables.children)\n",
    "        tab.children += (box,) \n",
    "        tab.set_title(index, name) \n",
    "    \n",
    "def klein_bottle(\n",
    "    endpoint=True,\n",
    "    tab=None,\n",
    "    index=0\n",
    "):\n",
    "    # http://paulbourke.net/geometry/klein/\n",
    "    u = np.linspace(0, 2 * pi, num=50, endpoint=endpoint)\n",
    "    v = np.linspace(0, 2 * pi, num=50, endpoint=endpoint)\n",
    "    u, v = np.meshgrid(u, v)\n",
    "    r = 4 * (1 - cos(u) / 2)\n",
    "    x = 6 * cos(u) * (1 + sin(u)) + r * cos(u) * cos(v) * (u < pi) + r * cos(v + pi) * (u >= pi)\n",
    "    y = 16 * sin(u) + r * sin(u) * cos(v) * (u < pi)\n",
    "    z = r * sin(v)\n",
    "    mesh = p3.plot_mesh(\n",
    "                x,\n",
    "                y,\n",
    "                z,\n",
    "                wireframe=False,\n",
    "                wrapx=not endpoint,\n",
    "                wrapy=not endpoint,\n",
    "                u=u / (2 * np.pi),\n",
    "                v=v / (2 * np.pi))\n",
    "    mesh.lighting_model = 'PHYSICAL'\n",
    "    setup_material_widgets(mesh, \"KLEIN BOTTLE\", tab, index)\n",
    "    return mesh\n",
    "    \n",
    "def worldplane(\n",
    "    tab=None,\n",
    "    index=0\n",
    "):\n",
    "    k = 20\n",
    "    h = -15\n",
    "    tx = np.array([k, -k, -k, k])\n",
    "    tz = np.array([k, k, -k, -k])\n",
    "    ty = np.array([h, h, h, h])\n",
    "    \n",
    "    tri = [(0, 1, 2), (0, 2, 3)]\n",
    "    p = p3.plot_trisurf(\n",
    "        tx, \n",
    "        ty,\n",
    "        tz, \n",
    "        triangles=tri)\n",
    "    p.lighting_model = 'PHYSICAL'\n",
    "    setup_material_widgets(p, \"PLANE\", tab, index)\n",
    "    return p\n",
    "    \n",
    "def test_surface(\n",
    "    tab=None,\n",
    "    index=0):\n",
    "    X = np.arange(-10, 10, 0.25*1)-10\n",
    "    Y = np.arange(-10, 10, 0.25*1)\n",
    "    X, Y = np.meshgrid(X, Y)\n",
    "    R = np.sqrt(X**2 + Y**2)\n",
    "    Z = np.sin(R)\n",
    "\n",
    "    surf = p3.plot_surface(\n",
    "        X+10, \n",
    "        Z-10, \n",
    "        Y+5)\n",
    "    surf.lighting_model = 'PHYSICAL'\n",
    "    setup_material_widgets(surf, \"SINE SURFACE\", tab, index)\n",
    "    return surf\n",
    "\n",
    "def plot_all(kb=False, ts=False, wp=True, show_ui=True):\n",
    "    k=None\n",
    "    w=None\n",
    "    s=None\n",
    "    p3.clear()\n",
    "    p3.figure()\n",
    "    tab = widgets.Tab() if show_ui == True else None\n",
    "    index = 0\n",
    "\n",
    "    if kb:\n",
    "        k=klein_bottle(tab=tab, index=index)\n",
    "        index+=1\n",
    "    if ts:\n",
    "        s=test_surface(tab=tab, index=index)\n",
    "        index+=1\n",
    "    if wp:\n",
    "        w=worldplane(tab=tab, index=index)\n",
    "    p3.show()\n",
    "    display(tab)\n",
    "    return [k,w,s] \n",
    "\n",
    "def lights_dir_spot():\n",
    "    dir1=p3.directional_light(light_color='green', \n",
    "        intensity=1.0,\n",
    "        position=[30,30,30],\n",
    "        target=[0,20,30])\n",
    "    sp1=p3.spot_light(light_color='yellow',\n",
    "        intensity=1,\n",
    "        position=[20,30,20],\n",
    "        target=[-20,-20,-20],\n",
    "        angle=math.pi/9,\n",
    "        penumbra=0.5)"
   ]
  },
  {
   "cell_type": "markdown",
   "metadata": {},
   "source": [
    "# Material properties"
   ]
  },
  {
   "cell_type": "code",
   "execution_count": 2,
   "metadata": {},
   "outputs": [
    {
     "data": {
      "application/vnd.jupyter.widget-view+json": {
       "model_id": "c7532e0cbdf24f219954378b573ca88d",
       "version_major": 2,
       "version_minor": 0
      },
      "text/plain": [
       "VBox(children=(Figure(camera=PerspectiveCamera(fov=45.0, position=(0.0, 0.0, 2.0), quaternion=(0.0, 0.0, 0.0, …"
      ]
     },
     "metadata": {},
     "output_type": "display_data"
    },
    {
     "data": {
      "application/vnd.jupyter.widget-view+json": {
       "model_id": "7658def2a3e84c53b9ab00fac41a65a8",
       "version_major": 2,
       "version_minor": 0
      },
      "text/plain": [
       "Tab(children=(VBox(children=(ColorPicker(value='red', description='Color:'), Dropdown(description='Lighting Mo…"
      ]
     },
     "metadata": {},
     "output_type": "display_data"
    }
   ],
   "source": [
    "[bottle, plane, surf] = plot_all(kb=True, ts=True, wp=True)\n",
    "lights_dir_spot()"
   ]
  },
  {
   "cell_type": "markdown",
   "metadata": {},
   "source": [
    "# Ambient Light"
   ]
  },
  {
   "cell_type": "code",
   "execution_count": 3,
   "metadata": {},
   "outputs": [
    {
     "data": {
      "application/vnd.jupyter.widget-view+json": {
       "model_id": "8b1c5d5c6598489fa06fea5e600d9aab",
       "version_major": 2,
       "version_minor": 0
      },
      "text/plain": [
       "VBox(children=(Figure(camera=PerspectiveCamera(fov=45.0, position=(0.0, 0.0, 2.0), quaternion=(0.0, 0.0, 0.0, …"
      ]
     },
     "metadata": {},
     "output_type": "display_data"
    },
    {
     "data": {
      "text/plain": [
       "None"
      ]
     },
     "metadata": {},
     "output_type": "display_data"
    },
    {
     "data": {
      "application/vnd.jupyter.widget-view+json": {
       "model_id": "55bf4d2bfccc455db3b6dc6460ccb1c9",
       "version_major": 2,
       "version_minor": 0
      },
      "text/plain": [
       "Tab(children=(VBox(children=(ColorPicker(value='green', description='Light Color:'), FloatSlider(value=1.0, de…"
      ]
     },
     "metadata": {},
     "output_type": "display_data"
    }
   ],
   "source": [
    "plot_all(kb=True, ts=False, wp=True, show_ui=False)\n",
    "tab = widgets.Tab()\n",
    "light = p3.ambient_light(light_color=\"green\")\n",
    "setup_light_widgets(light=light, name=\"AMBIENT LIGHT\", tab=tab, index=0)\n",
    "display(tab)"
   ]
  },
  {
   "cell_type": "markdown",
   "metadata": {},
   "source": [
    "# Hemisphere Light"
   ]
  },
  {
   "cell_type": "code",
   "execution_count": 4,
   "metadata": {},
   "outputs": [
    {
     "data": {
      "application/vnd.jupyter.widget-view+json": {
       "model_id": "90397533ae9f46c1afb05bd194b43dfb",
       "version_major": 2,
       "version_minor": 0
      },
      "text/plain": [
       "VBox(children=(Figure(camera=PerspectiveCamera(fov=45.0, position=(0.0, 0.0, 2.0), quaternion=(0.0, 0.0, 0.0, …"
      ]
     },
     "metadata": {},
     "output_type": "display_data"
    },
    {
     "data": {
      "text/plain": [
       "None"
      ]
     },
     "metadata": {},
     "output_type": "display_data"
    },
    {
     "data": {
      "application/vnd.jupyter.widget-view+json": {
       "model_id": "228438202e4c4c72b61d433eed0906f8",
       "version_major": 2,
       "version_minor": 0
      },
      "text/plain": [
       "Tab(children=(VBox(children=(ColorPicker(value='white', description='Light Color:'), ColorPicker(value='red', …"
      ]
     },
     "metadata": {},
     "output_type": "display_data"
    }
   ],
   "source": [
    "plot_all(kb=True, ts=False, wp=True, show_ui=False)\n",
    "tab = widgets.Tab()\n",
    "light = p3.hemisphere_light()\n",
    "setup_light_widgets(light=light, name=\"HEMISPHERE LIGHT\", tab=tab, index=0)\n",
    "display(tab)"
   ]
  },
  {
   "cell_type": "markdown",
   "metadata": {},
   "source": [
    "# Directional Light"
   ]
  },
  {
   "cell_type": "code",
   "execution_count": 5,
   "metadata": {},
   "outputs": [
    {
     "data": {
      "application/vnd.jupyter.widget-view+json": {
       "model_id": "94b48617341b4729ac26c3ccba07d2c4",
       "version_major": 2,
       "version_minor": 0
      },
      "text/plain": [
       "VBox(children=(Figure(camera=PerspectiveCamera(fov=45.0, position=(0.0, 0.0, 2.0), quaternion=(0.0, 0.0, 0.0, …"
      ]
     },
     "metadata": {},
     "output_type": "display_data"
    },
    {
     "data": {
      "text/plain": [
       "None"
      ]
     },
     "metadata": {},
     "output_type": "display_data"
    },
    {
     "data": {
      "application/vnd.jupyter.widget-view+json": {
       "model_id": "f25ddefc51ea442e86efe8ed2e3953ba",
       "version_major": 2,
       "version_minor": 0
      },
      "text/plain": [
       "Tab(children=(VBox(children=(ColorPicker(value='orange', description='Light Color:'), FloatSlider(value=1.0, d…"
      ]
     },
     "metadata": {},
     "output_type": "display_data"
    }
   ],
   "source": [
    "plot_all(kb=True, ts=False, wp=True, show_ui=False)\n",
    "tab = widgets.Tab()\n",
    "light_d = p3.directional_light(light_color=\"orange\")\n",
    "setup_light_widgets(light=light_d, name=\"DIRECTIONAL LIGHT\", tab=tab, index=0)\n",
    "display(tab)"
   ]
  },
  {
   "cell_type": "markdown",
   "metadata": {},
   "source": [
    "# Spot Light"
   ]
  },
  {
   "cell_type": "code",
   "execution_count": 6,
   "metadata": {},
   "outputs": [
    {
     "data": {
      "application/vnd.jupyter.widget-view+json": {
       "model_id": "d230b0b481534250b59891c679ba652a",
       "version_major": 2,
       "version_minor": 0
      },
      "text/plain": [
       "VBox(children=(Figure(camera=PerspectiveCamera(fov=45.0, position=(0.0, 0.0, 2.0), quaternion=(0.0, 0.0, 0.0, …"
      ]
     },
     "metadata": {},
     "output_type": "display_data"
    },
    {
     "data": {
      "text/plain": [
       "None"
      ]
     },
     "metadata": {},
     "output_type": "display_data"
    },
    {
     "data": {
      "application/vnd.jupyter.widget-view+json": {
       "model_id": "e72e21a884e8480bac4a140db65e5b62",
       "version_major": 2,
       "version_minor": 0
      },
      "text/plain": [
       "Tab(children=(VBox(children=(ColorPicker(value='blue', description='Light Color:'), FloatSlider(value=1.0, des…"
      ]
     },
     "metadata": {},
     "output_type": "display_data"
    }
   ],
   "source": [
    "plot_all(kb=True, ts=False, wp=True, show_ui=False)\n",
    "tab = widgets.Tab()\n",
    "light_s = p3.spot_light(light_color=\"blue\")\n",
    "setup_light_widgets(light=light_s, name=\"SPOT LIGHT\", tab=tab, index=0)\n",
    "display(tab)"
   ]
  },
  {
   "cell_type": "markdown",
   "metadata": {},
   "source": [
    "# Point Light"
   ]
  },
  {
   "cell_type": "code",
   "execution_count": 6,
   "metadata": {},
   "outputs": [
    {
     "data": {
      "application/vnd.jupyter.widget-view+json": {
       "model_id": "613425c4755948dcb6c9c681f100a182",
       "version_major": 2,
       "version_minor": 0
      },
      "text/plain": [
       "VBox(children=(Figure(camera=PerspectiveCamera(fov=45.0, position=(0.0, 0.0, 2.0), quaternion=(0.0, 0.0, 0.0, …"
      ]
     },
     "metadata": {},
     "output_type": "display_data"
    },
    {
     "data": {
      "text/plain": [
       "None"
      ]
     },
     "metadata": {},
     "output_type": "display_data"
    },
    {
     "data": {
      "application/vnd.jupyter.widget-view+json": {
       "model_id": "5d1e499cd4c64c6080a6a806a38e08a9",
       "version_major": 2,
       "version_minor": 0
      },
      "text/plain": [
       "Tab(children=(VBox(children=(ColorPicker(value='yellow', description='Light Color:'), FloatSlider(value=1.0, d…"
      ]
     },
     "metadata": {},
     "output_type": "display_data"
    }
   ],
   "source": [
    "plot_all(kb=True, ts=False, wp=True, show_ui=False)\n",
    "tab = widgets.Tab()\n",
    "light_p = p3.point_light(light_color=\"yellow\")\n",
    "setup_light_widgets(light=light_p, name=\"POINT LIGHT\", tab=tab, index=0)\n",
    "display(tab)"
   ]
  },
  {
   "cell_type": "markdown",
   "metadata": {},
   "source": [
    "# Animated Light"
   ]
  },
  {
   "cell_type": "code",
   "execution_count": 36,
   "metadata": {},
   "outputs": [
    {
     "data": {
      "application/vnd.jupyter.widget-view+json": {
       "model_id": "661766c768d14d779dc0683a0e954c15",
       "version_major": 2,
       "version_minor": 0
      },
      "text/plain": [
       "VBox(children=(Figure(camera=PerspectiveCamera(fov=45.0, position=(0.0, 0.0, 2.0), quaternion=(0.0, 0.0, 0.0, …"
      ]
     },
     "metadata": {},
     "output_type": "display_data"
    },
    {
     "data": {
      "application/vnd.jupyter.widget-view+json": {
       "model_id": "bb6a12f358f647bea2dbb36327dced41",
       "version_major": 2,
       "version_minor": 0
      },
      "text/plain": [
       "Tab(children=(VBox(children=(ColorPicker(value='red', description='Color:'), Dropdown(description='Lighting Mo…"
      ]
     },
     "metadata": {},
     "output_type": "display_data"
    }
   ],
   "source": [
    "[b1, p1, s1] = plot_all(kb=True, wp=True, ts=False)\n",
    "point1=p3.point_light()"
   ]
  },
  {
   "cell_type": "code",
   "execution_count": 37,
   "metadata": {},
   "outputs": [],
   "source": [
    "# Light and shadow Setup\n",
    "point1.position_x=20\n",
    "point1.position_y=10\n",
    "point1.position_z=0\n",
    "point1.cast_shadow = True\n",
    "b1.cast_shadow = True\n",
    "b1.receive_shadow = True\n",
    "p1.receive_shadow = True\n",
    "point1.shadow_map_type='PCF_SOFT'\n",
    "point1.shadow_map_size=1024\n",
    "# point1.shadow_radius=20 \n",
    "point1.decay = 2"
   ]
  },
  {
   "cell_type": "code",
   "execution_count": 38,
   "metadata": {},
   "outputs": [],
   "source": [
    "# Generating gif with animated light position\n",
    "def set_pos(fig, i, fraction):\n",
    "    point1.position_x = np.sin(2*np.pi*fraction) * 20\n",
    "    point1.position_z = np.cos(2*np.pi*fraction) * 20\n",
    "    \n",
    "# a = p3.movie('rotatelight.gif', set_pos, fps=20, frames=40, endpoint=False, cmd_template_gif)"
   ]
  },
  {
   "cell_type": "markdown",
   "metadata": {},
   "source": [
    "<img src=\"./rotatelight.gif\" width=\"400\" align=\"center\">"
   ]
  },
  {
   "cell_type": "code",
   "execution_count": null,
   "metadata": {},
   "outputs": [],
   "source": [
    "# WORK IN PROGRESS\n",
    "# No need to change the lighting model manually\n",
    "# whenever a light is added to the figure, the lighting model of the meshes will\n",
    "# be updated to 'PHYSICAL'\n",
    "#surf.lighting_model = 'PHYSICAL'\n",
    "#plane.lighting_model = 'PHYSICAL'\n",
    "#surf.color = 'blue'\n",
    "#plane.color = 'blue'\n",
    "#plane.emissive_intensity = 10\n",
    "# Emissive (light) color of the material, essentially a solid color unaffected by other lighting. Default is black.\n",
    "\n",
    "# roughness - How rough the material appears. 0.0 means a smooth mirror reflection, 1.0 means fully diffuse. \n",
    "# Default is 1.0.\n",
    "# metalness - How much the material is like a metal. Non-metallic materials such as wood or stone use 0.0, \n",
    "# metallic use 1.0, with nothing (usually) in between. \n",
    "# Default is 0.0. A value between 0.0 and 1.0 could be used for a rusty metal look.\n",
    "# PHYISICAL ONLY\n",
    "\n",
    "# 1.0 - completely opaque; 0.0 - completely transparent\n",
    "\n",
    "# specular_color - A specular highlight is the bright spot of light that appears on shiny objects when illuminated\n",
    "# shininess - specular intensity\n",
    "# PHONG ONLY\n",
    "# Bui Tuong Phong, Illumination of Computer-Generated Images, Department of Computer Science, University of Utah, UTEC-CSs-73-129, July 1973.\n",
    "# Bui Tuong Phong, \"Illumination for Computer Generated Pictures,\" Comm. ACM, Vol 18(6):311-317, June 1975.\n",
    "\n",
    "# Meshes can cast shadows and/or receive shadows\n",
    "\n",
    "# Lambertian reflectance is the property that defines an ideal \"matte\" or diffusely reflecting surface.\n",
    "\n",
    "#####################################################\n",
    "# AMBIENT LIGHT\n",
    "# light_color - default white\n",
    "# intensity - default  1\n",
    "\n",
    "#####################################################\n",
    "# HEMISPHERE LIGHT\n",
    "# light_color - default white - upper light\n",
    "# light_color2 - default white - bottom light\n",
    "# intensity - default  1\n",
    "# position_x, position_y, position_z - default [0, 1, 0] \n",
    "\n",
    "#####################################################\n",
    "# DIRECTIONAL LIGHT\n",
    "# light_color - default white\n",
    "# intensity - default  1\n",
    "# position_x, position_y, position_z - default [0, 1, 0] \n",
    "# target_x, target_y, target_z - default [0, 0, 0]\n",
    "# cast_shadow - default False\n",
    "# shadow_map_size - default 512\n",
    "# shadow_bias - default -0.0005\n",
    "# shadow_radius - default 1\n",
    "# shadow_camera_near - default 0.5\n",
    "# shadow_camera_far - default 500\n",
    "# shadow_camera_orthographic_size - default 100\n",
    "# shadow_map_type - default 'PCF_SOFT'  - 'BASIC', 'PCF', 'PCF_SOFT'\n",
    "\n",
    "# if some shadow settings do not update, due to a THREE.JS issue\n",
    "# the settings should be updated when setting cast_shadow to False, Run cell, turn back to True and Run cell again\n",
    "#directional1.cast_shadow=True\n",
    "#directional1.shadow_map_size=512\n",
    "#directional1.shadow_map_type='PCF_SOFT'\n",
    "# Setting this to values greater than 1 will blur the edges of the shadow.\n",
    "# High values will cause unwanted banding effects in the shadows - a greater mapSize will allow for a higher value to be used here before these effects become visible.\n",
    "# If shadow_map_type is set to PCF_SOFT, shadow_radius has no effect and it is recommended to increase softness by decreasing mapSize instead.\n",
    "#directional1.shadow_radius = 5 \n",
    "#solves shadow acne issues\n",
    "#directional1.shadow_bias=-0.005\n",
    "#directional1.shadow_camera_orthographic_size=100\n",
    "#####################################################\n",
    "# POINT LIGHT\n",
    "# light_color - default white\n",
    "# intensity - default 1\n",
    "# position_x, position_y, position_z - default [0, 1, 0]\n",
    "# distance - default 0\n",
    "# decay - default 1\n",
    "# cast_shadow - default False\n",
    "# shadow_map_size - default 512\n",
    "# shadow_bias - default -0.0005\n",
    "# shadow_radius - default 1\n",
    "# shadow_camera_near - default 0.5\n",
    "# shadow_camera_far - default 500\n",
    "# shadow_map_type - default 'PCF_SOFT'  - 'BASIC', 'PCF', 'PCF_SOFT'\n",
    "# point1.distance = 100 # Maximum range of the light. Default is 0 (no limit).\n",
    "# # The amount the light dims along the distance of the light. \n",
    "# # Default is 1. For physically correct lighting, set this to 2.\n",
    "# point1.decay = 0 \n",
    "# # if some shadow settings do not update, due to a THREE.JS issue\n",
    "# # the settings should be updated when setting cast_shadow to False, Run cell, turn back to True and Run cell again\n",
    "# point1.cast_shadow=True\n",
    "# point1.shadow_map_size=512\n",
    "# point1.shadow_map_type='PCF'\n",
    "# # Setting this to values greater than 1 will blur the edges of the shadow.\n",
    "# # High values will cause unwanted banding effects in the shadows - a greater mapSize will allow for a higher value to be used here before these effects become visible.\n",
    "# # If shadow_map_type is set to PCF_SOFT, shadow_radius has no effect and it is recommended to increase softness by decreasing mapSize instead.\n",
    "# point1.shadow_radius=10 \n",
    "# # solves shadow acne issues\n",
    "# point1.shadow_bias=-0.005\n",
    "# plane.color = 'red'\n",
    "# plane.emissive_intensity = 10\n",
    "# #surf.lighting_model = 'DEFAULT'\n",
    "# #point1.intensity=1\n",
    "# plane.color = 'green'\n",
    "# plane.emissive_intensity = 100\n",
    "#####################################################\n",
    "# SPOT LIGHT\n",
    "# light_color - default white\n",
    "# intensity - default 1\n",
    "# position_x, position_y, position_z - default [0, 1, 0]\n",
    "# target_x, target_y, target_z - default [0, 0, 0]\n",
    "# angle - default math.pi/3\n",
    "# distance - default 0\n",
    "# decay - default 1\n",
    "# penumbra - default 0\n",
    "# cast_shadow - default False\n",
    "# shadow_map_size - default 512\n",
    "# shadow_bias - default -0.0005\n",
    "# shadow_radius - default 1\n",
    "# shadow_camera_near - default 0.5\n",
    "# shadow_camera_far - default 500\n",
    "# shadow_camera_perspective_fov - default 50\n",
    "# shadow_camera_perspective_aspect - default 1\n",
    "# shadow_map_type - default 'PCF_SOFT' - 'BASIC', 'PCF', 'PCF_SOFT'\n",
    "\n",
    "#plot_all(kb=True, wp=True, ts=False)\n",
    "#spot1=p3.spot_light()\n",
    "\n",
    "# Default mode — When distance is zero, light does not attenuate. \n",
    "# When distance is non-zero, light will attenuate linearly from maximum intensity at the \n",
    "# light's position down to zero at this distance from the light.\n",
    "# Physically correct mode — When distance is zero, light will attenuate according to inverse-square law to infinite distance. \n",
    "# When distance is non-zero, light will attenuate according to inverse-square law until near the distance cutoff, \n",
    "# where it will then attenuate quickly and smoothly to 0. Inherently, cutoffs are not physically correct.\n",
    "# Default is 0.0.\n",
    "#spot1.distance=200\n",
    "\n",
    "# The amount the light dims along the distance of the light.\n",
    "# In physically correct mode, decay = 2 leads to physically realistic light falloff. The default is 1.\n",
    "#spot1.decay=0\n",
    "\n",
    "# Percent of the spotlight cone that is attenuated due to penumbra. \n",
    "# Takes values between zero and 1. The default is 0.0.\n",
    "#spot1.penumbra=0.5\n",
    "\n",
    "# If some shadow settings do not update, due to a THREE.JS issue\n",
    "# the settings should be updated when setting cast_shadow to False, Run cell, turn back to True and Run cell again\n",
    "#spot1.cast_shadow=True\n",
    "#spot1.shadow_map_size=1024\n",
    "#spot1.shadow_map_type='PCF_SOFT'\n",
    "\n",
    "#spot1.shadow_camera_perspective_fov=50\n",
    "# change the shadow camera aspect\n",
    "#shadow_camera_perspective_aspect=1\n",
    "\n",
    "# Setting this to values greater than 1 will blur the edges of the shadow.\n",
    "# High values will cause unwanted banding effects in the shadows - a greater mapSize will allow for a higher value to be used here before these effects become visible.\n",
    "# If shadow_map_type is set to PCF_SOFT, radius has no effect and it is recommended to increase softness by decreasing mapSize instead.\n",
    "#spot1.shadow_radius=5 \n",
    "# solves shadow acne issues\n",
    "#spot1.shadow_bias=-0.0005"
   ]
  }
 ],
 "metadata": {
  "kernelspec": {
   "display_name": "Python 3",
   "language": "python",
   "name": "python3"
  },
  "language_info": {
   "codemirror_mode": {
    "name": "ipython",
    "version": 3
   },
   "file_extension": ".py",
   "mimetype": "text/x-python",
   "name": "python",
   "nbconvert_exporter": "python",
   "pygments_lexer": "ipython3",
   "version": "3.8.3"
  }
 },
 "nbformat": 4,
 "nbformat_minor": 2
}
