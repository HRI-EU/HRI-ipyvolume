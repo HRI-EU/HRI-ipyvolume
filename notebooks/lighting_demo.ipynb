{
 "cells": [
  {
   "cell_type": "code",
   "execution_count": 73,
   "metadata": {},
   "outputs": [],
   "source": [
    "import warnings\n",
    "import numpy as np\n",
    "from numpy import cos, sin, pi\n",
    "from ipyvolume import pylab as p3\n",
    "import math\n",
    "\n",
    "try:\n",
    "    import scipy.ndimage\n",
    "    import scipy.special\n",
    "except:\n",
    "    pass\n",
    "    \n",
    "def klein_bottle(\n",
    "    endpoint=True,\n",
    "    tab=None,\n",
    "    index=0,\n",
    "    color='red',\n",
    "    flat_shading=True):\n",
    "    # http://paulbourke.net/geometry/klein/\n",
    "    u = np.linspace(0, 2 * pi, num=50, endpoint=endpoint)\n",
    "    v = np.linspace(0, 2 * pi, num=50, endpoint=endpoint)\n",
    "    u, v = np.meshgrid(u, v)\n",
    "    r = 4 * (1 - cos(u) / 2)\n",
    "    x = 6 * cos(u) * (1 + sin(u)) + r * cos(u) * cos(v) * (u < pi) + r * cos(v + pi) * (u >= pi)\n",
    "    y = 16 * sin(u) + r * sin(u) * cos(v) * (u < pi)\n",
    "    z = r * sin(v)\n",
    "    mesh = p3.plot_mesh(x=x, y=y, z=z, wireframe=False, wrapx=not endpoint, wrapy=not endpoint,\n",
    "                u=u / (2 * np.pi), v=v / (2 * np.pi), color=color, flat_shading=flat_shading)\n",
    "    p3.setup_material_widgets(mesh=mesh, tab=tab, index=index)\n",
    "    return mesh\n",
    "    \n",
    "def worldplane(\n",
    "    tab=None,\n",
    "    index=0,\n",
    "    color='red',\n",
    "    flat_shading=True):\n",
    "    k = 20\n",
    "    h = -15\n",
    "    tx = np.array([k, -k, -k, k])\n",
    "    tz = np.array([k, k, -k, -k])\n",
    "    ty = np.array([h, h, h, h])\n",
    "    tri = [(0, 1, 2), (0, 2, 3)]\n",
    "    p = p3.plot_trisurf(x=tx, y=ty, z=tz, triangles=tri, color=color, flat_shading=flat_shading)\n",
    "    p3.setup_material_widgets(mesh=p, tab=tab, index=index)\n",
    "    return p\n",
    "    \n",
    "def test_surface(\n",
    "    tab=None,\n",
    "    index=0,\n",
    "    color='red',\n",
    "    flat_shading=True):\n",
    "    X = np.arange(-10, 10, 0.25*1)-10\n",
    "    Y = np.arange(-10, 10, 0.25*1)\n",
    "    X, Y = np.meshgrid(X, Y)\n",
    "    R = np.sqrt(X**2 + Y**2)\n",
    "    Z = np.sin(R)\n",
    "    surf = p3.plot_surface(x=X+10, y=Z-10, z=Y+5, color=color, flat_shading=flat_shading)\n",
    "    p3.setup_material_widgets(mesh=surf, tab=tab, index=index)\n",
    "    return surf\n",
    "\n",
    "def plot_all(kb=False, \n",
    "             ts=False, \n",
    "             wp=True, \n",
    "             color='red', \n",
    "             flat_shading=True, \n",
    "             show_ui=True):\n",
    "    k=None\n",
    "    w=None\n",
    "    s=None\n",
    "    p3.clear()\n",
    "    p3.figure()\n",
    "    tab = widgets.Tab() if show_ui == True else None\n",
    "    index = 0\n",
    "\n",
    "    if kb:\n",
    "        k=klein_bottle(tab=tab, index=index, color=color, flat_shading=flat_shading)\n",
    "        index+=1\n",
    "    if ts:\n",
    "        s=test_surface(tab=tab, index=index, color=color, flat_shading=flat_shading)\n",
    "        index+=1\n",
    "    if wp:\n",
    "        w=worldplane(tab=tab, index=index, color=color, flat_shading=flat_shading)\n",
    "    p3.show()\n",
    "    display(tab)\n",
    "    return [k,w,s] \n",
    "\n",
    "def lights_dir_spot():\n",
    "    dir1=p3.directional_light(light_color='blue', \n",
    "        intensity=1.0,\n",
    "        position=[30,30,30],\n",
    "        target=[0,20,30])\n",
    "    sp1=p3.spot_light(light_color='yellow',\n",
    "        intensity=1,\n",
    "        position=[20,30,20],\n",
    "        target=[-20,-20,-20])"
   ]
  },
  {
   "cell_type": "markdown",
   "metadata": {},
   "source": [
    "# Ambient Light"
   ]
  },
  {
   "cell_type": "code",
   "execution_count": 75,
   "metadata": {},
   "outputs": [
    {
     "data": {
      "application/vnd.jupyter.widget-view+json": {
       "model_id": "cb6fefc0c3b148879564352dad90a734",
       "version_major": 2,
       "version_minor": 0
      },
      "text/plain": [
       "VBox(children=(Figure(camera=PerspectiveCamera(fov=45.0, position=(0.0, 0.0, 2.0), quaternion=(0.0, 0.0, 0.0, …"
      ]
     },
     "metadata": {},
     "output_type": "display_data"
    },
    {
     "data": {
      "text/plain": [
       "None"
      ]
     },
     "metadata": {},
     "output_type": "display_data"
    },
    {
     "data": {
      "application/vnd.jupyter.widget-view+json": {
       "model_id": "d8d2d1f4d671448992812ceadfe913c3",
       "version_major": 2,
       "version_minor": 0
      },
      "text/plain": [
       "Tab(children=(VBox(children=(ColorPicker(value='green', description='Light Color:', layout=Layout(width='450px…"
      ]
     },
     "metadata": {},
     "output_type": "display_data"
    }
   ],
   "source": [
    "plot_all(kb=True, ts=False, wp=True, show_ui=False)\n",
    "tab = widgets.Tab()\n",
    "light = p3.ambient_light(light_color=\"green\")\n",
    "p3.setup_light_widgets(light=light, tab=tab, index=0)\n",
    "display(tab)"
   ]
  },
  {
   "cell_type": "markdown",
   "metadata": {},
   "source": [
    "# Hemisphere Light"
   ]
  },
  {
   "cell_type": "code",
   "execution_count": 76,
   "metadata": {},
   "outputs": [
    {
     "data": {
      "application/vnd.jupyter.widget-view+json": {
       "model_id": "dc53e49815d3459ba3fdd16211081873",
       "version_major": 2,
       "version_minor": 0
      },
      "text/plain": [
       "VBox(children=(Figure(camera=PerspectiveCamera(fov=45.0, position=(0.0, 0.0, 2.0), quaternion=(0.0, 0.0, 0.0, …"
      ]
     },
     "metadata": {},
     "output_type": "display_data"
    },
    {
     "data": {
      "text/plain": [
       "None"
      ]
     },
     "metadata": {},
     "output_type": "display_data"
    },
    {
     "data": {
      "application/vnd.jupyter.widget-view+json": {
       "model_id": "0229028cd29547e68cf87ae2d302810a",
       "version_major": 2,
       "version_minor": 0
      },
      "text/plain": [
       "Tab(children=(VBox(children=(ColorPicker(value='#ffffff', description='Light Color:', layout=Layout(width='450…"
      ]
     },
     "metadata": {},
     "output_type": "display_data"
    }
   ],
   "source": [
    "plot_all(kb=True, ts=False, wp=True, show_ui=False)\n",
    "tab = widgets.Tab()\n",
    "light = p3.hemisphere_light()\n",
    "p3.setup_light_widgets(light=light, tab=tab, index=0)\n",
    "display(tab)"
   ]
  },
  {
   "cell_type": "markdown",
   "metadata": {},
   "source": [
    "# Directional Light"
   ]
  },
  {
   "cell_type": "code",
   "execution_count": 77,
   "metadata": {},
   "outputs": [
    {
     "data": {
      "application/vnd.jupyter.widget-view+json": {
       "model_id": "0252fca50ddf415b80724fba19dd1332",
       "version_major": 2,
       "version_minor": 0
      },
      "text/plain": [
       "VBox(children=(Figure(camera=PerspectiveCamera(fov=45.0, position=(0.0, 0.0, 2.0), quaternion=(0.0, 0.0, 0.0, …"
      ]
     },
     "metadata": {},
     "output_type": "display_data"
    },
    {
     "data": {
      "text/plain": [
       "None"
      ]
     },
     "metadata": {},
     "output_type": "display_data"
    },
    {
     "data": {
      "application/vnd.jupyter.widget-view+json": {
       "model_id": "c8c9f310987045f68c6040a11e968625",
       "version_major": 2,
       "version_minor": 0
      },
      "text/plain": [
       "Tab(children=(VBox(children=(ColorPicker(value='orange', description='Light Color:', layout=Layout(width='450p…"
      ]
     },
     "metadata": {},
     "output_type": "display_data"
    }
   ],
   "source": [
    "plot_all(kb=True, ts=False, wp=True, show_ui=False)\n",
    "tab = widgets.Tab()\n",
    "light_d = p3.directional_light(light_color=\"orange\")\n",
    "p3.setup_light_widgets(light=light_d, tab=tab, index=0)\n",
    "display(tab)"
   ]
  },
  {
   "cell_type": "markdown",
   "metadata": {},
   "source": [
    "# Spot Light"
   ]
  },
  {
   "cell_type": "code",
   "execution_count": 78,
   "metadata": {},
   "outputs": [
    {
     "data": {
      "application/vnd.jupyter.widget-view+json": {
       "model_id": "673260e7f800446784359204e21a1684",
       "version_major": 2,
       "version_minor": 0
      },
      "text/plain": [
       "VBox(children=(Figure(camera=PerspectiveCamera(fov=45.0, position=(0.0, 0.0, 2.0), quaternion=(0.0, 0.0, 0.0, …"
      ]
     },
     "metadata": {},
     "output_type": "display_data"
    },
    {
     "data": {
      "text/plain": [
       "None"
      ]
     },
     "metadata": {},
     "output_type": "display_data"
    },
    {
     "data": {
      "application/vnd.jupyter.widget-view+json": {
       "model_id": "1d38651ed9ae45028d0351f820c13376",
       "version_major": 2,
       "version_minor": 0
      },
      "text/plain": [
       "Tab(children=(VBox(children=(ColorPicker(value='blue', description='Light Color:', layout=Layout(width='450px'…"
      ]
     },
     "metadata": {},
     "output_type": "display_data"
    }
   ],
   "source": [
    "plot_all(kb=True, ts=False, wp=True, show_ui=False)\n",
    "tab = widgets.Tab()\n",
    "light_s = p3.spot_light(light_color=\"blue\")\n",
    "p3.setup_light_widgets(light=light_s, tab=tab, index=0)\n",
    "display(tab)"
   ]
  },
  {
   "cell_type": "markdown",
   "metadata": {},
   "source": [
    "# Point Light"
   ]
  },
  {
   "cell_type": "code",
   "execution_count": 80,
   "metadata": {},
   "outputs": [
    {
     "data": {
      "application/vnd.jupyter.widget-view+json": {
       "model_id": "95431972625b4198b83480521467690c",
       "version_major": 2,
       "version_minor": 0
      },
      "text/plain": [
       "VBox(children=(Figure(camera=PerspectiveCamera(fov=45.0, position=(0.0, 0.0, 2.0), quaternion=(0.0, 0.0, 0.0, …"
      ]
     },
     "metadata": {},
     "output_type": "display_data"
    },
    {
     "data": {
      "text/plain": [
       "None"
      ]
     },
     "metadata": {},
     "output_type": "display_data"
    },
    {
     "data": {
      "application/vnd.jupyter.widget-view+json": {
       "model_id": "112a292970de40da960c51d0c188d2ff",
       "version_major": 2,
       "version_minor": 0
      },
      "text/plain": [
       "Tab(children=(VBox(children=(ColorPicker(value='yellow', description='Light Color:', layout=Layout(width='450p…"
      ]
     },
     "metadata": {},
     "output_type": "display_data"
    }
   ],
   "source": [
    "plot_all(kb=True, ts=False, wp=True, show_ui=False)\n",
    "tab = widgets.Tab()\n",
    "light_p = p3.point_light(light_color=\"yellow\")\n",
    "p3.setup_light_widgets(light=light_p, tab=tab, index=0)\n",
    "display(tab)"
   ]
  },
  {
   "cell_type": "markdown",
   "metadata": {},
   "source": [
    "# Material properties"
   ]
  },
  {
   "cell_type": "code",
   "execution_count": 84,
   "metadata": {},
   "outputs": [
    {
     "data": {
      "application/vnd.jupyter.widget-view+json": {
       "model_id": "b11174b63e4c4e8d8901bf7dea07dc17",
       "version_major": 2,
       "version_minor": 0
      },
      "text/plain": [
       "VBox(children=(Figure(camera=PerspectiveCamera(fov=45.0, position=(0.0, 0.0, 2.0), quaternion=(0.0, 0.0, 0.0, …"
      ]
     },
     "metadata": {},
     "output_type": "display_data"
    },
    {
     "data": {
      "text/plain": [
       "None"
      ]
     },
     "metadata": {},
     "output_type": "display_data"
    },
    {
     "data": {
      "application/vnd.jupyter.widget-view+json": {
       "model_id": "7a08795a81fe466bac77b82ac59ebdcf",
       "version_major": 2,
       "version_minor": 0
      },
      "text/plain": [
       "Tab(children=(VBox(children=(ColorPicker(value='blue', description='Light Color:', layout=Layout(width='450px'…"
      ]
     },
     "metadata": {},
     "output_type": "display_data"
    }
   ],
   "source": [
    "[bottle, plane, surf] = plot_all(kb=True, ts=True, wp=True, show_ui=False)\n",
    "lights_dir_spot()\n",
    "p3.show_lighting_widgets()"
   ]
  },
  {
   "cell_type": "markdown",
   "metadata": {},
   "source": [
    "# Animated Light"
   ]
  },
  {
   "cell_type": "code",
   "execution_count": 87,
   "metadata": {},
   "outputs": [
    {
     "data": {
      "application/vnd.jupyter.widget-view+json": {
       "model_id": "d0267e2abfe74d968f7a2f7b86739e30",
       "version_major": 2,
       "version_minor": 0
      },
      "text/plain": [
       "VBox(children=(Figure(camera=PerspectiveCamera(fov=45.0, position=(0.0, 0.0, 2.0), quaternion=(0.0, 0.0, 0.0, …"
      ]
     },
     "metadata": {},
     "output_type": "display_data"
    },
    {
     "data": {
      "text/plain": [
       "None"
      ]
     },
     "metadata": {},
     "output_type": "display_data"
    }
   ],
   "source": [
    "[b1, p1, s1] = plot_all(kb=True, wp=True, ts=False, show_ui=False, color='white', flat_shading=False)\n",
    "point1=p3.point_light()\n",
    "point1.intensity=0.8"
   ]
  },
  {
   "cell_type": "code",
   "execution_count": 83,
   "metadata": {},
   "outputs": [],
   "source": [
    "# Generating gif with animated light position\n",
    "fps=20\n",
    "frames=40\n",
    "def set_pos(fig, i, fraction):\n",
    "    point1.position = [np.sin(2*np.pi*fraction) * fps, point1.position[1], np.cos(2*np.pi*fraction) * fps]\n",
    "#movie = p3.movie('rotatelight.gif', set_pos, fps=fps, frames=frames, endpoint=False, gif_loop=True)"
   ]
  },
  {
   "cell_type": "markdown",
   "metadata": {},
   "source": [
    "<img src=\"./rotatelight.gif\" width=\"400\" align=\"center\">"
   ]
  }
 ],
 "metadata": {
  "kernelspec": {
   "display_name": "Python 3",
   "language": "python",
   "name": "python3"
  },
  "language_info": {
   "codemirror_mode": {
    "name": "ipython",
    "version": 3
   },
   "file_extension": ".py",
   "mimetype": "text/x-python",
   "name": "python",
   "nbconvert_exporter": "python",
   "pygments_lexer": "ipython3",
   "version": "3.8.3"
  }
 },
 "nbformat": 4,
 "nbformat_minor": 2
}
