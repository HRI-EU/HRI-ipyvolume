{
 "cells": [
  {
   "cell_type": "code",
   "execution_count": 467,
   "metadata": {},
   "outputs": [],
   "source": [
    "#import sys\n",
    "#sys.path.append(\"..\")\n",
    "import warnings\n",
    "import numpy as np\n",
    "from numpy import cos, sin, pi\n",
    "from ipyvolume import pylab as p3\n",
    "import math\n",
    "from ipywidgets import widgets\n",
    "from ipywidgets import FloatRangeSlider, Dropdown, FloatSlider, ColorPicker\n",
    "from ipywidgets import interact, interactive, fixed, interact_manual\n",
    "\n",
    "try:\n",
    "    import scipy.ndimage\n",
    "    import scipy.special\n",
    "except:\n",
    "    pass\n",
    "\n",
    "def klein_bottle(\n",
    "    endpoint=True,\n",
    "    wireframe=False,\n",
    "    texture=None,\n",
    "    interval=1000,\n",
    "    material_lighting_model='DEFAULT',\n",
    "    material_opacity=1,\n",
    "    material_specular_color='white',\n",
    "    material_shininess=1,\n",
    "    material_emissive_color='black',\n",
    "    material_emissive_intensity=1.0,\n",
    "    material_roughness=0.0,\n",
    "    material_metalness=0.0,\n",
    "    material_cast_shadow=False,\n",
    "    material_receive_shadow=False\n",
    "):\n",
    "    # http://paulbourke.net/geometry/klein/\n",
    "    u = np.linspace(0, 2 * pi, num=50, endpoint=endpoint)\n",
    "    v = np.linspace(0, 2 * pi, num=50, endpoint=endpoint)\n",
    "    u, v = np.meshgrid(u, v)\n",
    "    r = 4 * (1 - cos(u) / 2)\n",
    "    x = 6 * cos(u) * (1 + sin(u)) + r * cos(u) * cos(v) * (u < pi) + r * cos(v + pi) * (u >= pi)\n",
    "    y = 16 * sin(u) + r * sin(u) * cos(v) * (u < pi)\n",
    "    z = r * sin(v)\n",
    "    mesh = p3.plot_mesh(\n",
    "                x,\n",
    "                y,\n",
    "                z,\n",
    "                #color='blue',\n",
    "                wrapx=not endpoint,\n",
    "                wrapy=not endpoint,\n",
    "                u=u / (2 * np.pi),\n",
    "                v=v / (2 * np.pi),\n",
    "                wireframe=wireframe,\n",
    "                texture=texture,\n",
    "                lighting_model=material_lighting_model,\n",
    "                opacity=material_opacity,\n",
    "                specular_color=material_specular_color,\n",
    "                shininess=material_shininess,\n",
    "                emissive_color=material_emissive_color,\n",
    "                emissive_intensity=material_emissive_intensity,\n",
    "                roughness=material_roughness,\n",
    "                metalness=material_metalness,\n",
    "                cast_shadow=material_cast_shadow,\n",
    "                receive_shadow=material_receive_shadow,\n",
    "            )\n",
    "\n",
    "    return mesh\n",
    "def worldplane(material_lighting_model='DEFAULT',\n",
    "    material_opacity=1,\n",
    "    material_specular_color='white',\n",
    "    material_shininess=1,\n",
    "    material_emissive_color='black',\n",
    "    material_emissive_intensity=1.0,\n",
    "    material_roughness=0.0,\n",
    "    material_metalness=0.0,\n",
    "    material_cast_shadow=False,\n",
    "    material_receive_shadow=False,\n",
    "):\n",
    "    k = 20\n",
    "    h = -15\n",
    "    tx = np.array([k, -k, -k, k])\n",
    "    tz = np.array([k, k, -k, -k])\n",
    "    ty = np.array([h, h, h, h])\n",
    "    \n",
    "    tri = [(0, 1, 2), (0, 2, 3)]\n",
    "    p = p3.plot_trisurf(\n",
    "        tx, \n",
    "        ty,\n",
    "        tz, \n",
    "        triangles=tri, \n",
    "        color='red', \n",
    "        lighting_model=material_lighting_model,\n",
    "        opacity=material_opacity,\n",
    "        specular_color=material_specular_color,\n",
    "        shininess=material_shininess,\n",
    "        emissive_color=material_emissive_color,\n",
    "        emissive_intensity=material_emissive_intensity,\n",
    "        roughness=material_roughness,\n",
    "        metalness=material_metalness,\n",
    "        cast_shadow=material_cast_shadow,\n",
    "        receive_shadow=material_receive_shadow)\n",
    "    return p\n",
    "    \n",
    "def test_surface(material_lighting_model='DEFAULT',\n",
    "    material_opacity=1,\n",
    "    material_specular_color='white',\n",
    "    material_shininess=1,\n",
    "    material_emissive_color='black',\n",
    "    material_emissive_intensity=1.0,\n",
    "    material_roughness=0.0,\n",
    "    material_metalness=0.0,\n",
    "    material_cast_shadow=False,\n",
    "    material_receive_shadow=False\n",
    "):\n",
    "    X = np.arange(-10, 10, 0.25*1)-10\n",
    "    Y = np.arange(-10, 10, 0.25*1)\n",
    "    X, Y = np.meshgrid(X, Y)\n",
    "    R = np.sqrt(X**2 + Y**2)\n",
    "    Z = np.sin(R)\n",
    "\n",
    "    surf = p3.plot_surface(\n",
    "        X+10, \n",
    "        Z-10, \n",
    "        Y+5, \n",
    "        color=\"red\",\n",
    "        lighting_model=material_lighting_model,\n",
    "        opacity=material_opacity,\n",
    "        specular_color=material_specular_color,\n",
    "        shininess=material_shininess,\n",
    "        emissive_color=material_emissive_color,\n",
    "        emissive_intensity=material_emissive_intensity,\n",
    "        roughness=material_roughness,\n",
    "        metalness=material_metalness,\n",
    "        cast_shadow=material_cast_shadow,\n",
    "        receive_shadow=material_receive_shadow,)\n",
    "    return surf\n",
    "\n",
    "def plot_all(kb=False, wp=True, ts=False):\n",
    "    p3.clear()\n",
    "    p3.figure()\n",
    "    \n",
    "    a = None\n",
    "    b = None\n",
    "    c = None\n",
    "    if kb:\n",
    "        a = klein_bottle(material_lighting_model='PHYSICAL', \n",
    "                     material_shininess=10, \n",
    "                     material_roughness=0.1, \n",
    "                     material_metalness=0.1,\n",
    "                     material_cast_shadow=True,\n",
    "                     material_receive_shadow=True)\n",
    "    if wp:\n",
    "        b = worldplane(material_lighting_model='PHYSICAL', \n",
    "                     material_shininess=10, \n",
    "                     material_roughness=0.1, \n",
    "                     material_metalness=0.1,\n",
    "                     material_cast_shadow=True,\n",
    "                     material_receive_shadow=True)\n",
    "    if ts:\n",
    "        c = test_surface(material_lighting_model='PHYSICAL', \n",
    "                     material_shininess=10, \n",
    "                     material_roughness=0.1, \n",
    "                     material_metalness=0.1,\n",
    "                     material_cast_shadow=True,\n",
    "                     material_receive_shadow=True)\n",
    "    p3.show()\n",
    "    \n",
    "    return (a,b,c)\n",
    "\n",
    "def plot_all_no_change(kb=False, wp=True, ts=False):\n",
    "    k=None\n",
    "    w=None\n",
    "    s=None\n",
    "    p3.clear()\n",
    "    p3.figure()\n",
    "    if kb:\n",
    "        k=klein_bottle()\n",
    "    if wp:\n",
    "        w=worldplane()\n",
    "    if ts:\n",
    "        s=test_surface()\n",
    "    p3.show()\n",
    "    \n",
    "    return [k,w,s] \n",
    "\n",
    "def lights_dir_spot():\n",
    "    dir1=p3.directional_light(light_color='green', \n",
    "        intensity=1.0,\n",
    "        position=[30,30,30],\n",
    "        target=[0,20,30],\n",
    "        cast_shadow=True,\n",
    "        shadow_map_size=512,\n",
    "        shadow_map_type='PCF_SOFT',\n",
    "        shadow_bias=-0.005)\n",
    "    sp1=p3.spot_light(light_color='yellow',\n",
    "        intensity=1,\n",
    "        position=[20,30,20],\n",
    "        target=[-20,-20,-20],\n",
    "        angle=math.pi/9,\n",
    "        distance=200,\n",
    "        penumbra=0.5,\n",
    "        cast_shadow=True,\n",
    "        shadow_map_size=1024,\n",
    "        shadow_map_type='PCF_SOFT',\n",
    "        shadow_camera_perspective_fov=50,\n",
    "        shadow_camera_perspective_aspect=1,\n",
    "        shadow_bias=-0.0005)"
   ]
  },
  {
   "cell_type": "markdown",
   "metadata": {},
   "source": [
    "# Plot a plane and a sinusoidal surface"
   ]
  },
  {
   "cell_type": "code",
   "execution_count": 468,
   "metadata": {},
   "outputs": [
    {
     "data": {
      "application/vnd.jupyter.widget-view+json": {
       "model_id": "e46e79a4f2354645aab204558ee8df0c",
       "version_major": 2,
       "version_minor": 0
      },
      "text/plain": [
       "VBox(children=(Figure(camera=PerspectiveCamera(fov=45.0, position=(0.0, 0.0, 2.0), quaternion=(0.0, 0.0, 0.0, …"
      ]
     },
     "metadata": {},
     "output_type": "display_data"
    }
   ],
   "source": [
    "[bottle, plane, surf] = plot_all_no_change(kb=False, wp=True, ts=True)"
   ]
  },
  {
   "cell_type": "code",
   "execution_count": 469,
   "metadata": {},
   "outputs": [],
   "source": [
    "# No need to change the lighting model manually\n",
    "# whenever a light is added to the figure, the lighting model of the meshes will\n",
    "# be updated to 'PHYSICAL'\n",
    "# surf.lighting_model = 'PHYSICAL'\n",
    "# plane.lighting_model = 'PHYSICAL'"
   ]
  },
  {
   "cell_type": "markdown",
   "metadata": {},
   "source": [
    "# Add a directional light and a spot light"
   ]
  },
  {
   "cell_type": "code",
   "execution_count": 470,
   "metadata": {},
   "outputs": [],
   "source": [
    "lights_dir_spot()"
   ]
  },
  {
   "cell_type": "markdown",
   "metadata": {},
   "source": [
    "# Set Emissive components"
   ]
  },
  {
   "cell_type": "code",
   "execution_count": 471,
   "metadata": {},
   "outputs": [],
   "source": [
    "# Emissive (light) color of the material, essentially a solid color unaffected by other lighting. Default is black.\n",
    "surf.emissive_color='white'"
   ]
  },
  {
   "cell_type": "code",
   "execution_count": 472,
   "metadata": {},
   "outputs": [],
   "source": [
    "surf.emissive_intensity=0.2"
   ]
  },
  {
   "cell_type": "code",
   "execution_count": 473,
   "metadata": {},
   "outputs": [],
   "source": [
    "plane.emissive_color='orange'\n",
    "surf.emissive_intensity=0.1;"
   ]
  },
  {
   "cell_type": "markdown",
   "metadata": {},
   "source": [
    "# Physical Lighting components"
   ]
  },
  {
   "cell_type": "code",
   "execution_count": 474,
   "metadata": {},
   "outputs": [],
   "source": [
    "# roughness - How rough the material appears. 0.0 means a smooth mirror reflection, 1.0 means fully diffuse. \n",
    "# Default is 1.0.\n",
    "# metalness - How much the material is like a metal. Non-metallic materials such as wood or stone use 0.0, \n",
    "# metallic use 1.0, with nothing (usually) in between. \n",
    "# Default is 0.0. A value between 0.0 and 1.0 could be used for a rusty metal look.\n",
    "# PHYISICAL ONLY\n",
    "\n",
    "surf.roughness=0.1\n",
    "plane.roughness=0.1\n",
    "surf.metalness=0.6\n",
    "plane.metalness=0.6"
   ]
  },
  {
   "cell_type": "code",
   "execution_count": 475,
   "metadata": {},
   "outputs": [],
   "source": [
    "# 1.0 - completely opaque; 0.0 - completely transparent\n",
    "surf.opacity = 0.1"
   ]
  },
  {
   "cell_type": "markdown",
   "metadata": {},
   "source": [
    "# Phong Lighting components"
   ]
  },
  {
   "cell_type": "code",
   "execution_count": 476,
   "metadata": {},
   "outputs": [],
   "source": [
    "# specular_color - A specular highlight is the bright spot of light that appears on shiny objects when illuminated\n",
    "# shininess - specular intensity\n",
    "# PHONG ONLY\n",
    "# Bui Tuong Phong, Illumination of Computer-Generated Images, Department of Computer Science, University of Utah, UTEC-CSs-73-129, July 1973.\n",
    "# Bui Tuong Phong, \"Illumination for Computer Generated Pictures,\" Comm. ACM, Vol 18(6):311-317, June 1975.\n",
    "surf.lighting_model = 'PHONG'\n",
    "surf.specular_color='red' \n",
    "surf.shininess=100 \n",
    "surf.opacity = 0.9 #not Phong only"
   ]
  },
  {
   "cell_type": "markdown",
   "metadata": {},
   "source": [
    "# Add shadows"
   ]
  },
  {
   "cell_type": "code",
   "execution_count": 477,
   "metadata": {},
   "outputs": [],
   "source": [
    "# Meshes can cast shadows and/or receive shadows\n",
    "surf.cast_shadow=True\n",
    "plane.receive_shadow=True"
   ]
  },
  {
   "cell_type": "markdown",
   "metadata": {},
   "source": [
    "# Lambert Lighting components"
   ]
  },
  {
   "cell_type": "code",
   "execution_count": 478,
   "metadata": {},
   "outputs": [],
   "source": [
    "# Lambertian reflectance is the property that defines an ideal \"matte\" or diffusely reflecting surface.\n",
    "surf.lighting_model = 'LAMBERT'\n",
    "surf.opacity = 0.5"
   ]
  },
  {
   "cell_type": "markdown",
   "metadata": {},
   "source": [
    "# Ambient Light"
   ]
  },
  {
   "cell_type": "code",
   "execution_count": 479,
   "metadata": {},
   "outputs": [
    {
     "data": {
      "application/vnd.jupyter.widget-view+json": {
       "model_id": "ba04ca4687b24d2197cc16f60f0d6d62",
       "version_major": 2,
       "version_minor": 0
      },
      "text/plain": [
       "VBox(children=(Figure(camera=PerspectiveCamera(fov=45.0, position=(0.0, 0.0, 2.0), quaternion=(0.0, 0.0, 0.0, …"
      ]
     },
     "metadata": {},
     "output_type": "display_data"
    },
    {
     "data": {
      "text/plain": [
       "(None,\n",
       " Mesh(cast_shadow=True, lighting_model='PHYSICAL', line_material=ShaderMaterial(), material=ShaderMaterial(side='DoubleSide'), metalness=0.1, receive_shadow=True, roughness=0.1, shininess=10.0, texture=None, triangles=array([[0, 1, 2],\n",
       "        [0, 2, 3]], dtype=uint32), x=array([ 20, -20, -20,  20]), y=array([-15, -15, -15, -15]), z=array([ 20,  20, -20, -20])),\n",
       " Mesh(cast_shadow=True, lighting_model='PHYSICAL', line_material=ShaderMaterial(), material=ShaderMaterial(side='DoubleSide'), metalness=0.1, receive_shadow=True, roughness=0.1, shininess=10.0, texture=None, triangles=array([[   0,   80,   81],\n",
       "        [   0,   81,    1],\n",
       "        [   1,   81,   82],\n",
       "        ...,\n",
       "        [6317, 6398, 6318],\n",
       "        [6318, 6398, 6399],\n",
       "        [6318, 6399, 6319]], dtype=uint32), x=array([-10.  ,  -9.75,  -9.5 , ...,   9.25,   9.5 ,   9.75]), y=array([-10.36117832, -10.14568639,  -9.92353314, ..., -10.3466766 ,\n",
       "        -10.33163312, -10.32255416]), z=array([-5.  , -5.  , -5.  , ..., 14.75, 14.75, 14.75])))"
      ]
     },
     "execution_count": 479,
     "metadata": {},
     "output_type": "execute_result"
    }
   ],
   "source": [
    "#####################################################\n",
    "# AMBIENT LIGHT\n",
    "plot_all(kb=False, wp=True, ts=True)#lighting model set to 'PHYSICAL'"
   ]
  },
  {
   "cell_type": "code",
   "execution_count": 480,
   "metadata": {},
   "outputs": [],
   "source": [
    "# light_color - default white\n",
    "# intensity - default  1\n",
    "ambient1 = p3.ambient_light()"
   ]
  },
  {
   "cell_type": "code",
   "execution_count": 481,
   "metadata": {},
   "outputs": [],
   "source": [
    "ambient1.color='red'\n",
    "ambient1.intensity=2.0"
   ]
  },
  {
   "cell_type": "markdown",
   "metadata": {},
   "source": [
    "# Hemisphere Light"
   ]
  },
  {
   "cell_type": "code",
   "execution_count": 482,
   "metadata": {},
   "outputs": [
    {
     "data": {
      "application/vnd.jupyter.widget-view+json": {
       "model_id": "a0a8881eeb004926836655b068f129ab",
       "version_major": 2,
       "version_minor": 0
      },
      "text/plain": [
       "VBox(children=(Figure(camera=PerspectiveCamera(fov=45.0, position=(0.0, 0.0, 2.0), quaternion=(0.0, 0.0, 0.0, …"
      ]
     },
     "metadata": {},
     "output_type": "display_data"
    },
    {
     "data": {
      "text/plain": [
       "(None,\n",
       " Mesh(cast_shadow=True, lighting_model='PHYSICAL', line_material=ShaderMaterial(), material=ShaderMaterial(side='DoubleSide'), metalness=0.1, receive_shadow=True, roughness=0.1, shininess=10.0, texture=None, triangles=array([[0, 1, 2],\n",
       "        [0, 2, 3]], dtype=uint32), x=array([ 20, -20, -20,  20]), y=array([-15, -15, -15, -15]), z=array([ 20,  20, -20, -20])),\n",
       " Mesh(cast_shadow=True, lighting_model='PHYSICAL', line_material=ShaderMaterial(), material=ShaderMaterial(side='DoubleSide'), metalness=0.1, receive_shadow=True, roughness=0.1, shininess=10.0, texture=None, triangles=array([[   0,   80,   81],\n",
       "        [   0,   81,    1],\n",
       "        [   1,   81,   82],\n",
       "        ...,\n",
       "        [6317, 6398, 6318],\n",
       "        [6318, 6398, 6399],\n",
       "        [6318, 6399, 6319]], dtype=uint32), x=array([-10.  ,  -9.75,  -9.5 , ...,   9.25,   9.5 ,   9.75]), y=array([-10.36117832, -10.14568639,  -9.92353314, ..., -10.3466766 ,\n",
       "        -10.33163312, -10.32255416]), z=array([-5.  , -5.  , -5.  , ..., 14.75, 14.75, 14.75])))"
      ]
     },
     "execution_count": 482,
     "metadata": {},
     "output_type": "execute_result"
    }
   ],
   "source": [
    "#####################################################\n",
    "# HEMISPHERE LIGHT\n",
    "# light_color - default white - upper light\n",
    "# light_color2 - default white - bottom light\n",
    "# intensity - default  1\n",
    "# position_x, position_y, position_z - default [0, 1, 0] \n",
    "plot_all(kb=False, wp=True, ts=True)"
   ]
  },
  {
   "cell_type": "code",
   "execution_count": 483,
   "metadata": {},
   "outputs": [],
   "source": [
    "hemisphere1 = p3.hemisphere_light()"
   ]
  },
  {
   "cell_type": "code",
   "execution_count": 484,
   "metadata": {},
   "outputs": [],
   "source": [
    "hemisphere1.color='orange'\n",
    "hemisphere1.groundColor='blue'\n",
    "hemisphere1.intensity=1.5\n",
    "hemisphere1.position=(1,0,0)"
   ]
  },
  {
   "cell_type": "markdown",
   "metadata": {},
   "source": [
    "# Directional Light"
   ]
  },
  {
   "cell_type": "code",
   "execution_count": 485,
   "metadata": {
    "scrolled": false
   },
   "outputs": [
    {
     "data": {
      "application/vnd.jupyter.widget-view+json": {
       "model_id": "16575e057a3e42208430e3326b530cda",
       "version_major": 2,
       "version_minor": 0
      },
      "text/plain": [
       "VBox(children=(Figure(camera=PerspectiveCamera(fov=45.0, position=(0.0, 0.0, 2.0), quaternion=(0.0, 0.0, 0.0, …"
      ]
     },
     "metadata": {},
     "output_type": "display_data"
    }
   ],
   "source": [
    "#####################################################\n",
    "# DIRECTIONAL LIGHT\n",
    "# light_color - default white\n",
    "# intensity - default  1\n",
    "# position_x, position_y, position_z - default [0, 1, 0] \n",
    "# target_x, target_y, target_z - default [0, 0, 0]\n",
    "# cast_shadow - default False\n",
    "# shadow_map_size - default 512\n",
    "# shadow_bias - default -0.0005\n",
    "# shadow_radius - default 1\n",
    "# shadow_camera_near - default 0.5\n",
    "# shadow_camera_far - default 500\n",
    "# shadow_camera_orthographic_size - default 100\n",
    "# shadow_map_type - default 'PCF_SOFT'  - 'BASIC', 'PCF', 'PCF_SOFT'\n",
    "\n",
    "(k,b,s) = plot_all(kb=True, wp=True, ts=False)\n",
    "directional1=p3.directional_light()\n"
   ]
  },
  {
   "cell_type": "code",
   "execution_count": 486,
   "metadata": {},
   "outputs": [],
   "source": [
    "directional1.color='green'\n",
    "directional1.intensity=1.0"
   ]
  },
  {
   "cell_type": "code",
   "execution_count": 487,
   "metadata": {},
   "outputs": [],
   "source": [
    "#light position\n",
    "directional1.position=(30, 30, -30)\n",
    "#look at position\n",
    "directional1.target.position=(0,0,0)"
   ]
  },
  {
   "cell_type": "code",
   "execution_count": 488,
   "metadata": {},
   "outputs": [],
   "source": [
    "# if some shadow settings do not update, due to a THREE.JS issue\n",
    "# the settings should be updated when setting cast_shadow to False, Run cell, turn back to True and Run cell again\n",
    "directional1.castShadow=True\n",
    "directional1.shadow.mapSize=(512, 512)\n",
    "directional1.set_shadow_map_type('PCF_SOFT')\n",
    "# Setting this to values greater than 1 will blur the edges of the shadow.\n",
    "# High values will cause unwanted banding effects in the shadows - a greater mapSize will allow for a higher value to be used here before these effects become visible.\n",
    "# If shadow_map_type is set to PCF_SOFT, shadow_radius has no effect and it is recommended to increase softness by decreasing mapSize instead.\n",
    "directional1.shadow.radius = 5 \n",
    "#solves shadow acne issues\n",
    "directional1.shadow.bias=-0.005\n",
    "# directional1.set_camera_size(100)"
   ]
  },
  {
   "cell_type": "markdown",
   "metadata": {},
   "source": [
    "# Point Light"
   ]
  },
  {
   "cell_type": "code",
   "execution_count": 489,
   "metadata": {},
   "outputs": [
    {
     "data": {
      "application/vnd.jupyter.widget-view+json": {
       "model_id": "ccc4caa4356a45f6ba48c5710ac12a9a",
       "version_major": 2,
       "version_minor": 0
      },
      "text/plain": [
       "VBox(children=(Figure(camera=PerspectiveCamera(fov=45.0, position=(0.0, 0.0, 2.0), quaternion=(0.0, 0.0, 0.0, …"
      ]
     },
     "metadata": {},
     "output_type": "display_data"
    }
   ],
   "source": [
    "#####################################################\n",
    "# POINT LIGHT\n",
    "# light_color - default white\n",
    "# intensity - default 1\n",
    "# position_x, position_y, position_z - default [0, 1, 0]\n",
    "# distance - default 0\n",
    "# decay - default 1\n",
    "# cast_shadow - default False\n",
    "# shadow_map_size - default 512\n",
    "# shadow_bias - default -0.0005\n",
    "# shadow_radius - default 1\n",
    "# shadow_camera_near - default 0.5\n",
    "# shadow_camera_far - default 500\n",
    "# shadow_map_type - default 'PCF_SOFT'  - 'BASIC', 'PCF', 'PCF_SOFT'\n",
    "plot_all(kb=True, wp=True, ts=False)\n",
    "point1=p3.point_light()\n"
   ]
  },
  {
   "cell_type": "code",
   "execution_count": 490,
   "metadata": {},
   "outputs": [],
   "source": [
    "point1.position=(20,20,20)"
   ]
  },
  {
   "cell_type": "code",
   "execution_count": 491,
   "metadata": {},
   "outputs": [],
   "source": [
    "point1.distance = 100 # Maximum range of the light. Default is 0 (no limit)."
   ]
  },
  {
   "cell_type": "code",
   "execution_count": 492,
   "metadata": {},
   "outputs": [],
   "source": [
    "# The amount the light dims along the distance of the light. \n",
    "# Default is 1. For physically correct lighting, set this to 2.\n",
    "point1.decay = 0 "
   ]
  },
  {
   "cell_type": "code",
   "execution_count": 493,
   "metadata": {},
   "outputs": [],
   "source": [
    "point1.color='blue'\n",
    "point1.intensity=1.5"
   ]
  },
  {
   "cell_type": "code",
   "execution_count": 494,
   "metadata": {},
   "outputs": [],
   "source": [
    "# if some shadow settings do not update, due to a THREE.JS issue\n",
    "# the settings should be updated when setting cast_shadow to False, Run cell, turn back to True and Run cell again\n",
    "point1.castShadow=True\n",
    "point1.shadow.mapSize=(512, 512)\n",
    "point1.set_shadow_map_type('PCF')\n",
    "# Setting this to values greater than 1 will blur the edges of the shadow.\n",
    "# High values will cause unwanted banding effects in the shadows - a greater mapSize will allow for a higher value to be used here before these effects become visible.\n",
    "# If shadow_map_type is set to PCF_SOFT, shadow_radius has no effect and it is recommended to increase softness by decreasing mapSize instead.\n",
    "point1.shadow.radius=10 \n",
    "# solves shadow acne issues\n",
    "point1.shadow.bias=-0.005"
   ]
  },
  {
   "cell_type": "markdown",
   "metadata": {},
   "source": [
    "# Spot Light"
   ]
  },
  {
   "cell_type": "code",
   "execution_count": 495,
   "metadata": {},
   "outputs": [
    {
     "data": {
      "application/vnd.jupyter.widget-view+json": {
       "model_id": "4afea6cda5894e619239cc023e2cbd2a",
       "version_major": 2,
       "version_minor": 0
      },
      "text/plain": [
       "VBox(children=(Figure(camera=PerspectiveCamera(fov=45.0, position=(0.0, 0.0, 2.0), quaternion=(0.0, 0.0, 0.0, …"
      ]
     },
     "metadata": {},
     "output_type": "display_data"
    }
   ],
   "source": [
    "#####################################################\n",
    "# SPOT LIGHT\n",
    "# light_color - default white\n",
    "# intensity - default 1\n",
    "# position_x, position_y, position_z - default [0, 1, 0]\n",
    "# target_x, target_y, target_z - default [0, 0, 0]\n",
    "# angle - default math.pi/3\n",
    "# distance - default 0\n",
    "# decay - default 1\n",
    "# penumbra - default 0\n",
    "# cast_shadow - default False\n",
    "# shadow_map_size - default 512\n",
    "# shadow_bias - default -0.0005\n",
    "# shadow_radius - default 1\n",
    "# shadow_camera_near - default 0.5\n",
    "# shadow_camera_far - default 500\n",
    "# shadow_camera_perspective_fov - default 50\n",
    "# shadow_camera_perspective_aspect - default 1\n",
    "# shadow_map_type - default 'PCF_SOFT' - 'BASIC', 'PCF', 'PCF_SOFT'\n",
    "\n",
    "plot_all(kb=True, wp=True, ts=False)\n",
    "spot1=p3.spot_light()\n"
   ]
  },
  {
   "cell_type": "code",
   "execution_count": 496,
   "metadata": {},
   "outputs": [],
   "source": [
    "spot1.color='yellow' \n",
    "spot1.intensity=1\n",
    "spot1.position=(20, 20, 20)\n",
    "\n",
    "spot1.target.position=(-20,-20,-20)\n",
    "\n",
    "spot1.angle=math.pi/9"
   ]
  },
  {
   "cell_type": "code",
   "execution_count": 497,
   "metadata": {},
   "outputs": [],
   "source": [
    "# Default mode — When distance is zero, light does not attenuate. \n",
    "# When distance is non-zero, light will attenuate linearly from maximum intensity at the \n",
    "# light's position down to zero at this distance from the light.\n",
    "# Physically correct mode — When distance is zero, light will attenuate according to inverse-square law to infinite distance. \n",
    "# When distance is non-zero, light will attenuate according to inverse-square law until near the distance cutoff, \n",
    "# where it will then attenuate quickly and smoothly to 0. Inherently, cutoffs are not physically correct.\n",
    "# Default is 0.0.\n",
    "spot1.distance=200"
   ]
  },
  {
   "cell_type": "code",
   "execution_count": 498,
   "metadata": {},
   "outputs": [],
   "source": [
    "# The amount the light dims along the distance of the light.\n",
    "# In physically correct mode, decay = 2 leads to physically realistic light falloff. The default is 1.\n",
    "spot1.decay=0"
   ]
  },
  {
   "cell_type": "code",
   "execution_count": 499,
   "metadata": {},
   "outputs": [],
   "source": [
    "# Percent of the spotlight cone that is attenuated due to penumbra. \n",
    "# Takes values between zero and 1. The default is 0.0.\n",
    "spot1.penumbra=0.5"
   ]
  },
  {
   "cell_type": "code",
   "execution_count": 500,
   "metadata": {},
   "outputs": [],
   "source": [
    "# If some shadow settings do not update, due to a THREE.JS issue\n",
    "# the settings should be updated when setting cast_shadow to False, Run cell, turn back to True and Run cell again\n",
    "spot1.castShadow=True\n",
    "spot1.shadow.mapSize=(1024,1024)\n",
    "spot1.set_shadow_map_type('PCF_SOFT')\n",
    "\n",
    "spot1.shadow.camera.fov=50\n",
    "# change the shadow camera aspect\n",
    "spot1.shadow.camera.aspect=1\n",
    "\n",
    "# Setting this to values greater than 1 will blur the edges of the shadow.\n",
    "# High values will cause unwanted banding effects in the shadows - a greater mapSize will allow for a higher value to be used here before these effects become visible.\n",
    "# If shadow_map_type is set to PCF_SOFT, radius has no effect and it is recommended to increase softness by decreasing mapSize instead.\n",
    "spot1.shadow.radius=5 \n",
    "# solves shadow acne issues\n",
    "spot1.shadow.bias=-0.0005"
   ]
  },
  {
   "cell_type": "code",
   "execution_count": 501,
   "metadata": {},
   "outputs": [
    {
     "data": {
      "text/plain": [
       "5.0"
      ]
     },
     "execution_count": 501,
     "metadata": {},
     "output_type": "execute_result"
    }
   ],
   "source": [
    "spot1.shadow.radius"
   ]
  },
  {
   "cell_type": "markdown",
   "metadata": {},
   "source": [
    "# Animated Light"
   ]
  },
  {
   "cell_type": "code",
   "execution_count": 506,
   "metadata": {},
   "outputs": [
    {
     "data": {
      "application/vnd.jupyter.widget-view+json": {
       "model_id": "e8843fc36a5a443a92a37412980d256e",
       "version_major": 2,
       "version_minor": 0
      },
      "text/plain": [
       "VBox(children=(Figure(camera=PerspectiveCamera(fov=45.0, position=(0.0, 0.0, 2.0), quaternion=(0.0, 0.0, 0.0, …"
      ]
     },
     "metadata": {},
     "output_type": "display_data"
    }
   ],
   "source": [
    "[b1, p1, s1] = plot_all_no_change(kb=True, wp=True, ts=False)\n",
    "point1=p3.point_light()\n"
   ]
  },
  {
   "cell_type": "code",
   "execution_count": 507,
   "metadata": {},
   "outputs": [],
   "source": [
    "# Light and shadow Setup\n",
    "point1.position=(20,10,0)\n",
    "point1.castShadow = True\n",
    "b1.cast_shadow = True\n",
    "b1.receive_shadow = True\n",
    "p1.receive_shadow = True\n",
    "point1.set_shadow_map_type('PCF_SOFT')\n",
    "point1.shadow.mapSize=(1024,1024)\n",
    "# point1.shadow_radius=20 \n",
    "point1.shadow.bias=-0.0005\n",
    "point1.decay = 2"
   ]
  },
  {
   "cell_type": "code",
   "execution_count": 508,
   "metadata": {},
   "outputs": [
    {
     "ename": "SyntaxError",
     "evalue": "positional argument follows keyword argument (<ipython-input-508-4142146b608f>, line 5)",
     "output_type": "error",
     "traceback": [
      "\u001b[0;36m  File \u001b[0;32m\"<ipython-input-508-4142146b608f>\"\u001b[0;36m, line \u001b[0;32m5\u001b[0m\n\u001b[0;31m    a = p3.movie('rotatelight.gif', set_pos, fps=20, frames=40, endpoint=False, cmd_template_gif)\u001b[0m\n\u001b[0m                                                                               ^\u001b[0m\n\u001b[0;31mSyntaxError\u001b[0m\u001b[0;31m:\u001b[0m positional argument follows keyword argument\n"
     ]
    }
   ],
   "source": [
    "# Generating gif with animated light position\n",
    "def set_pos(fig, i, fraction):\n",
    "    point1.position = (np.sin(2*np.pi*fraction) * 20, point1.position[1], np.cos(2*np.pi*fraction) * 20) \n",
    "    \n",
    "#a = p3.movie('rotatelight.gif', set_pos, fps=20, frames=40, endpoint=False, cmd_template_gif)"
   ]
  },
  {
   "cell_type": "markdown",
   "metadata": {},
   "source": [
    "<img src=\"./rotatelight.gif\" width=\"400\" align=\"center\">"
   ]
  },
  {
   "cell_type": "code",
   "execution_count": null,
   "metadata": {},
   "outputs": [],
   "source": []
  }
 ],
 "metadata": {
  "kernelspec": {
   "display_name": "Python 3",
   "language": "python",
   "name": "python3"
  },
  "language_info": {
   "codemirror_mode": {
    "name": "ipython",
    "version": 3
   },
   "file_extension": ".py",
   "mimetype": "text/x-python",
   "name": "python",
   "nbconvert_exporter": "python",
   "pygments_lexer": "ipython3",
   "version": "3.7.7"
  }
 },
 "nbformat": 4,
 "nbformat_minor": 2
}
